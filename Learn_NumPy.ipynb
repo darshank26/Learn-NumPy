{
  "nbformat": 4,
  "nbformat_minor": 0,
  "metadata": {
    "colab": {
      "provenance": [],
      "toc_visible": true,
      "authorship_tag": "ABX9TyMa7W7kRaI46QNWnlCYxUH3",
      "include_colab_link": true
    },
    "kernelspec": {
      "name": "python3",
      "display_name": "Python 3"
    },
    "language_info": {
      "name": "python"
    }
  },
  "cells": [
    {
      "cell_type": "markdown",
      "metadata": {
        "id": "view-in-github",
        "colab_type": "text"
      },
      "source": [
        "<a href=\"https://colab.research.google.com/github/darshank26/Learn-NumPy/blob/main/Learn_NumPy.ipynb\" target=\"_parent\"><img src=\"https://colab.research.google.com/assets/colab-badge.svg\" alt=\"Open In Colab\"/></a>"
      ]
    },
    {
      "cell_type": "markdown",
      "source": [
        "#***Welcome to NumPy!***\n",
        "\n",
        "* NumPy is a Python library used for numerical computing and data manipulation.\n",
        "\n",
        "* It provides a special type of array called ndarray to store and operate on large sets of numerical data efficiently.\n",
        "\n",
        "* NumPy's arrays are faster than regular Python lists because they are implemented in a low-level language.\n",
        "\n",
        "* You can perform various operations on NumPy arrays, such as mathematical calculations, sorting, and selecting specific elements.\n",
        "\n",
        "* NumPy supports broadcasting, which allows you to perform operations between arrays of different shapes without loops.\n",
        "\n",
        "* It is widely used in scientific computing and data analysis, and it serves as the foundation for other popular libraries like SciPy, Pandas, and Matplotlib."
      ],
      "metadata": {
        "id": "vnPzObLyPXY1"
      }
    },
    {
      "cell_type": "markdown",
      "source": [
        "# **Installing NumPy**"
      ],
      "metadata": {
        "id": "MHtw_K9-QnLv"
      }
    },
    {
      "cell_type": "code",
      "source": [
        "#conda install numpy\n",
        "\n",
        "#or\n",
        "\n",
        "#pip install numpy"
      ],
      "metadata": {
        "id": "Catn4Y5GQrr3"
      },
      "execution_count": null,
      "outputs": []
    },
    {
      "cell_type": "markdown",
      "source": [
        "# **How to import NumPy**"
      ],
      "metadata": {
        "id": "yrFtg3wRRGOj"
      }
    },
    {
      "cell_type": "code",
      "source": [
        "import numpy as np"
      ],
      "metadata": {
        "id": "LOPUnrRyRHjy"
      },
      "execution_count": null,
      "outputs": []
    },
    {
      "cell_type": "markdown",
      "source": [
        "# Difference between a Python list and a NumPy array"
      ],
      "metadata": {
        "id": "XjSDnSfcSqSs"
      }
    },
    {
      "cell_type": "markdown",
      "source": [
        "<table>\n",
        "  <tr>\n",
        "    <th></th>\n",
        "    <th><b>Python Lists</b></th>\n",
        "    <th><b>NumPy Arrays</b></th>\n",
        "  </tr>\n",
        "  <tr>\n",
        "    <td><b>Data Type</b></td>\n",
        "    <td>Can store elements of different data types together</td>\n",
        "    <td>Homogeneous, can only contain elements of the same data type</td>\n",
        "  </tr>\n",
        "  <tr>\n",
        "    <td><b>Memory Efficiency</b></td>\n",
        "    <td>Higher memory overhead due to storing type information and metadata for each element</td>\n",
        "    <td>More memory-efficient, stores only the raw data</td>\n",
        "  </tr>\n",
        "  <tr>\n",
        "    <td><b>Performance</b></td>\n",
        "    <td>Slower for numerical operations, involves interpretation and dynamic dispatch</td>\n",
        "    <td>Faster for numerical operations, utilizes optimized C code</td>\n",
        "  </tr>\n",
        "  <tr>\n",
        "    <td><b>Array Operations</b></td>\n",
        "    <td>Lack built-in array operations, requiring manual iteration or external libraries</td>\n",
        "    <td>Offers a wide range of optimized array operations and functions</td>\n",
        "  </tr>\n",
        "  <tr>\n",
        "    <td><b>Broadcasting</b></td>\n",
        "    <td>Does not support broadcasting, element-wise operations often require explicit loops</td>\n",
        "    <td>Supports broadcasting, simplifying operations between arrays of different shapes</td>\n",
        "  </tr>\n",
        "</table>\n"
      ],
      "metadata": {
        "id": "NI6a1Jb2RTRx"
      }
    },
    {
      "cell_type": "markdown",
      "source": [
        "# Why is NumPy Faster Than Lists?\n"
      ],
      "metadata": {
        "id": "lk3CcThlTuhD"
      }
    },
    {
      "cell_type": "markdown",
      "source": [
        "\n",
        "<p>NumPy is faster than Python lists due to the following reasons:</p>\n",
        "\n",
        "<ol>\n",
        "  <li><strong>Data Organization:</strong> NumPy arrays store data in a way that allows for faster calculations. Python lists can hold different types of data, which slows down computations.</li>\n",
        "  <li><strong>Memory Usage:</strong> NumPy arrays use memory more efficiently by storing data in a contiguous block, making it faster to access elements. Python lists have scattered memory locations, leading to slower access times.</li>\n",
        "  <li><strong>Optimized Operations:</strong> NumPy is built with highly optimized code that performs calculations faster than Python's built-in operations for lists.</li>\n",
        "  <li><strong>Bulk Operations:</strong> NumPy can perform calculations on entire arrays at once, without the need for explicit loops. This saves time compared to iterating over elements in Python lists.</li>\n",
        "  <li><strong>Integration with Libraries:</strong> NumPy is widely used in scientific computing libraries, which are designed to work seamlessly with NumPy. This integration further boosts performance.</li>\n",
        "</ol>\n",
        "\n",
        "<p>In summary, NumPy's speed advantage comes from its efficient data organization, optimized calculations, bulk operations, and integration with specialized libraries. These factors make NumPy faster than Python lists for numerical computations.</p>\n"
      ],
      "metadata": {
        "id": "kB1VTIgpTzKN"
      }
    },
    {
      "cell_type": "markdown",
      "source": [
        "# NumPy Creating Arrays\n"
      ],
      "metadata": {
        "id": "595u3AxeUmJ7"
      }
    },
    {
      "cell_type": "code",
      "source": [
        "import numpy as np\n",
        "\n",
        "arr = np.array([1,2,3,4,5,6]);\n",
        "\n",
        "print(arr)\n",
        "\n",
        "print(type(arr))"
      ],
      "metadata": {
        "colab": {
          "base_uri": "https://localhost:8080/"
        },
        "id": "pmKRBUjXUtzf",
        "outputId": "ac549ba7-c34d-43f5-c249-42c5857cc5df"
      },
      "execution_count": null,
      "outputs": [
        {
          "output_type": "stream",
          "name": "stdout",
          "text": [
            "[1 2 3 4 5 6]\n",
            "<class 'numpy.ndarray'>\n"
          ]
        }
      ]
    },
    {
      "cell_type": "markdown",
      "source": [
        "# Dimensions in Arrays\n"
      ],
      "metadata": {
        "id": "xGVX8Ij5aWIX"
      }
    },
    {
      "cell_type": "markdown",
      "source": [
        "A dimension in arrays is one level of array depth\n"
      ],
      "metadata": {
        "id": "GmfrtguDapYK"
      }
    },
    {
      "cell_type": "markdown",
      "source": [
        "#0-D Arrays\n"
      ],
      "metadata": {
        "id": "pJKc8xTr8HZs"
      }
    },
    {
      "cell_type": "markdown",
      "source": [
        "Each value in an array is O-D Array\n",
        "\n"
      ],
      "metadata": {
        "id": "Q349hgZRRWrG"
      }
    },
    {
      "cell_type": "code",
      "source": [
        "import numpy as np\n",
        "\n",
        "arr = np.array(1);\n",
        "\n",
        "print(arr)\n",
        "\n",
        "print(\"Dimension of Array : \", arr.ndim)"
      ],
      "metadata": {
        "colab": {
          "base_uri": "https://localhost:8080/"
        },
        "id": "IoCxin9G8DYN",
        "outputId": "06f43ba4-b40c-4c0c-cf98-910480590b94"
      },
      "execution_count": 7,
      "outputs": [
        {
          "output_type": "stream",
          "name": "stdout",
          "text": [
            "1\n",
            "Dimension of Array 0\n"
          ]
        }
      ]
    },
    {
      "cell_type": "markdown",
      "source": [
        "#1-D Array"
      ],
      "metadata": {
        "id": "z-7Sy-yE84xl"
      }
    },
    {
      "cell_type": "markdown",
      "source": [
        "An array that has a 0-D Array as its elements is called uni-dimensional or 1-D Array\n"
      ],
      "metadata": {
        "id": "kpjWnJH3Rj6o"
      }
    },
    {
      "cell_type": "code",
      "source": [
        "import numpy as np\n",
        "\n",
        "arr = np.array([1,2,3,4,5,6]);\n",
        "\n",
        "print(arr)\n",
        "\n",
        "print(\"Dimension of Array :\", arr.ndim)"
      ],
      "metadata": {
        "colab": {
          "base_uri": "https://localhost:8080/"
        },
        "id": "x_7mkT2f9lqo",
        "outputId": "e5cd86c3-7e9a-43ee-e037-46ecc4ad3b9f"
      },
      "execution_count": 9,
      "outputs": [
        {
          "output_type": "stream",
          "name": "stdout",
          "text": [
            "[1 2 3 4 5 6]\n",
            "Dimension of Array : 1\n"
          ]
        }
      ]
    },
    {
      "cell_type": "markdown",
      "source": [
        "#2-D Array"
      ],
      "metadata": {
        "id": "gtJrDEjl9s3l"
      }
    },
    {
      "cell_type": "markdown",
      "source": [
        "An array that has a 1-D Array as its elements is called 2-D Array\n"
      ],
      "metadata": {
        "id": "Xrczb0ekR7g1"
      }
    },
    {
      "cell_type": "code",
      "source": [
        "import numpy as np\n",
        "\n",
        "arr = np.array([[1,2,3,4,5,6], [7,8,9,10,11,12], [13,14,15,16,17,18]]);\n",
        "\n",
        "print(arr)\n",
        "\n",
        "print(\"Dimension of Array :\", arr.ndim)"
      ],
      "metadata": {
        "colab": {
          "base_uri": "https://localhost:8080/"
        },
        "id": "7PzCZN5u9vzf",
        "outputId": "d719b951-5b91-4fb1-b02f-e095a6de7f13"
      },
      "execution_count": 11,
      "outputs": [
        {
          "output_type": "stream",
          "name": "stdout",
          "text": [
            "[[ 1  2  3  4  5  6]\n",
            " [ 7  8  9 10 11 12]\n",
            " [13 14 15 16 17 18]]\n",
            "Dimension of Array : 2\n"
          ]
        }
      ]
    },
    {
      "cell_type": "markdown",
      "source": [
        "#3-D Array\n"
      ],
      "metadata": {
        "id": "EQ2QyL0d-YUf"
      }
    },
    {
      "cell_type": "markdown",
      "source": [
        "An array that has a 2-D Array as its elements is called  2-D Array"
      ],
      "metadata": {
        "id": "02fD6JdMSGMm"
      }
    },
    {
      "cell_type": "code",
      "source": [
        "import numpy as np\n",
        "\n",
        "arr = np.array([[[1,2,3,4,5,6], [1,0,1,0,1,0]], [[7,8,9,10,11,12],[2,0,2,0,2,0]], [[13,14,15,16,17,18],[3,0,3,0,3,0]]]);\n",
        "\n",
        "print(arr)\n",
        "\n",
        "print(\"Dimension of Array :\", arr.ndim)"
      ],
      "metadata": {
        "colab": {
          "base_uri": "https://localhost:8080/"
        },
        "id": "CMJtXA0Y-bgp",
        "outputId": "50a3069e-5bcf-43d4-e8cf-7907dd81982c"
      },
      "execution_count": 13,
      "outputs": [
        {
          "output_type": "stream",
          "name": "stdout",
          "text": [
            "[[[ 1  2  3  4  5  6]\n",
            "  [ 1  0  1  0  1  0]]\n",
            "\n",
            " [[ 7  8  9 10 11 12]\n",
            "  [ 2  0  2  0  2  0]]\n",
            "\n",
            " [[13 14 15 16 17 18]\n",
            "  [ 3  0  3  0  3  0]]]\n",
            "Dimension of Array : 3\n"
          ]
        }
      ]
    },
    {
      "cell_type": "markdown",
      "source": [
        "#4-D Array"
      ],
      "metadata": {
        "id": "K3g9teaYSMcM"
      }
    },
    {
      "cell_type": "markdown",
      "source": [
        "An array that has a 3-D Array as its elements is called 4-D Array"
      ],
      "metadata": {
        "id": "VCcPlJVWSQ7t"
      }
    },
    {
      "cell_type": "code",
      "source": [
        "import numpy as np\n",
        "\n",
        "arr = np.array([[[[1,2,3,4,5,6], [1,0,1,0,1,0]]], [[[7,8,9,10,11,12],[2,0,2,0,2,0]]], [[[13,14,15,16,17,18],[3,0,3,0,3,0]]]]);\n",
        "\n",
        "print(arr)\n",
        "\n",
        "print(\"Dimension of Array :\", arr.ndim)"
      ],
      "metadata": {
        "colab": {
          "base_uri": "https://localhost:8080/"
        },
        "id": "zdAIib5RSc3g",
        "outputId": "fa635d95-4e3b-4d1a-f90b-fe0f3efbde88"
      },
      "execution_count": 1,
      "outputs": [
        {
          "output_type": "stream",
          "name": "stdout",
          "text": [
            "[[[[ 1  2  3  4  5  6]\n",
            "   [ 1  0  1  0  1  0]]]\n",
            "\n",
            "\n",
            " [[[ 7  8  9 10 11 12]\n",
            "   [ 2  0  2  0  2  0]]]\n",
            "\n",
            "\n",
            " [[[13 14 15 16 17 18]\n",
            "   [ 3  0  3  0  3  0]]]]\n",
            "Dimension of Array : 4\n"
          ]
        }
      ]
    },
    {
      "cell_type": "markdown",
      "source": [
        "#Higher Dimensional Arrays\n"
      ],
      "metadata": {
        "id": "9UBjtII5S9Rh"
      }
    },
    {
      "cell_type": "markdown",
      "source": [
        "An array can have any number of dimensional, so when array is created you can specify the dimensions for it"
      ],
      "metadata": {
        "id": "msNa8J93S_H-"
      }
    },
    {
      "cell_type": "code",
      "source": [
        "import numpy as np\n",
        "\n",
        "arr = np.array([1,2,3,4,5,6], ndmin=6);\n",
        "\n",
        "print(arr)\n",
        "print(\"Dimension of Array :\", arr.ndim)"
      ],
      "metadata": {
        "colab": {
          "base_uri": "https://localhost:8080/"
        },
        "id": "U5ZP-k7KTKtZ",
        "outputId": "13dc9457-222c-449f-e629-2ce201245053"
      },
      "execution_count": 3,
      "outputs": [
        {
          "output_type": "stream",
          "name": "stdout",
          "text": [
            "[[[[[[1 2 3 4 5 6]]]]]]\n",
            "Dimension of Array : 6\n"
          ]
        }
      ]
    },
    {
      "cell_type": "markdown",
      "source": [
        "#Array Indexing"
      ],
      "metadata": {
        "id": "XvN4w008UBCu"
      }
    },
    {
      "cell_type": "markdown",
      "source": [
        "An array indexing is accessing array elements in any given numpy array.\n",
        "\n",
        "The index in numpy array starts from 0, this means first element has index  0 and second element has index 1 and so on\n",
        "\n",
        "You can access array elements using this index position"
      ],
      "metadata": {
        "id": "XObOoqbzUFby"
      }
    },
    {
      "cell_type": "markdown",
      "source": [
        "\n",
        "**Accessing Array elements from 1-D Array**"
      ],
      "metadata": {
        "id": "WHieN_GyUwA9"
      }
    },
    {
      "cell_type": "code",
      "source": [
        "import numpy as np\n",
        "\n",
        "arr = np.array([1,2,3,4,5,6]);\n",
        "\n",
        "print(arr[1])\n"
      ],
      "metadata": {
        "colab": {
          "base_uri": "https://localhost:8080/"
        },
        "id": "no4xyeF5U6OO",
        "outputId": "7cae7a52-0658-4ae2-f178-3a9b19dcfc8d"
      },
      "execution_count": 11,
      "outputs": [
        {
          "output_type": "stream",
          "name": "stdout",
          "text": [
            "2\n"
          ]
        }
      ]
    },
    {
      "cell_type": "markdown",
      "source": [
        "**Accessing Array elements from 2-D Array**\n",
        "\n",
        "To access array elements from 2-D array we use comma seperated integers representing dimension and index of the elements\n",
        "\n",
        "Consider 2-D array as table where rows represent dimensions and column represents"
      ],
      "metadata": {
        "id": "09aQidWsVlZx"
      }
    },
    {
      "cell_type": "code",
      "source": [
        "import numpy as np\n",
        "\n",
        "arr = np.array([[1,2,3,4,5,6], [7,8,9,10,11,12]]);\n",
        "\n",
        "print(arr[1,4])\n"
      ],
      "metadata": {
        "colab": {
          "base_uri": "https://localhost:8080/"
        },
        "id": "kU-SbiYSVm5w",
        "outputId": "20c19407-504e-4a30-f383-cbc4fdfac9c1"
      },
      "execution_count": 19,
      "outputs": [
        {
          "output_type": "stream",
          "name": "stdout",
          "text": [
            "11\n"
          ]
        }
      ]
    },
    {
      "cell_type": "markdown",
      "source": [
        "**Accessing Array elements from 3-D Array**\n",
        "\n",
        "To access array elements from 3-D array we use comma seperated integers representing dimension and index of the elements"
      ],
      "metadata": {
        "id": "h4i8IfLPXWuU"
      }
    },
    {
      "cell_type": "code",
      "source": [
        "import numpy as np\n",
        "\n",
        "arr = np.array([ [[1,2,3], [7,8,9]] , [[10,11,12], [13,14,15]] , [[16,17,18], [19,20,21]]]);\n",
        "\n",
        "print(arr[1,0,2])"
      ],
      "metadata": {
        "colab": {
          "base_uri": "https://localhost:8080/"
        },
        "id": "jFogJL7kXhhc",
        "outputId": "2e1655cf-79ca-4ac7-84c1-8c234010008b"
      },
      "execution_count": 21,
      "outputs": [
        {
          "output_type": "stream",
          "name": "stdout",
          "text": [
            "12\n"
          ]
        }
      ]
    },
    {
      "cell_type": "markdown",
      "source": [
        "**Accessing Array elements from 4-D Array**\n",
        "\n",
        "To access array elements from 4-D array we use comma seperated integers representing dimension and index of the elements"
      ],
      "metadata": {
        "id": "s6ry5ZnYYOeu"
      }
    },
    {
      "cell_type": "code",
      "source": [
        "import numpy as np\n",
        "\n",
        "arr = np.array([[ [[1,2,3], [7,8,9]] ], [[[10,11,12], [13,14,15]] ], [[[16,17,18], [19,20,21]]]]);\n",
        "\n",
        "print(arr[1,0,1,1])"
      ],
      "metadata": {
        "colab": {
          "base_uri": "https://localhost:8080/"
        },
        "id": "dMSD5dEbYWei",
        "outputId": "009cf31a-c396-4fb9-e794-b86736d61d5b"
      },
      "execution_count": 23,
      "outputs": [
        {
          "output_type": "stream",
          "name": "stdout",
          "text": [
            "14\n"
          ]
        }
      ]
    },
    {
      "cell_type": "markdown",
      "source": [
        "#Negative Indexing\n",
        "\n",
        "We can access array elements of any given numpy array using negative index"
      ],
      "metadata": {
        "id": "v2ZhAN05buq0"
      }
    },
    {
      "cell_type": "code",
      "source": [
        "import numpy as np\n",
        "\n",
        "arr = np.array([[1,2,3,4,5,6], [7,8,9,10,11,12]]);\n",
        "\n",
        "print(arr[1,-1])"
      ],
      "metadata": {
        "colab": {
          "base_uri": "https://localhost:8080/"
        },
        "id": "RWxoE6lpbuHl",
        "outputId": "09671727-56c9-4098-a3fe-41b2693baa81"
      },
      "execution_count": 25,
      "outputs": [
        {
          "output_type": "stream",
          "name": "stdout",
          "text": [
            "12\n"
          ]
        }
      ]
    }
  ]
}