{
  "nbformat": 4,
  "nbformat_minor": 0,
  "metadata": {
    "colab": {
      "provenance": [],
      "toc_visible": true,
      "authorship_tag": "ABX9TyOi/nZEK/t+NHtk+a+FWdnh",
      "include_colab_link": true
    },
    "kernelspec": {
      "name": "python3",
      "display_name": "Python 3"
    },
    "language_info": {
      "name": "python"
    }
  },
  "cells": [
    {
      "cell_type": "markdown",
      "metadata": {
        "id": "view-in-github",
        "colab_type": "text"
      },
      "source": [
        "<a href=\"https://colab.research.google.com/github/darshank26/Learn-NumPy/blob/main/Learn_NumPy.ipynb\" target=\"_parent\"><img src=\"https://colab.research.google.com/assets/colab-badge.svg\" alt=\"Open In Colab\"/></a>"
      ]
    },
    {
      "cell_type": "markdown",
      "source": [
        "#***Welcome to NumPy!***\n",
        "\n",
        "* NumPy is a Python library used for numerical computing and data manipulation.\n",
        "\n",
        "* It provides a special type of array called ndarray to store and operate on large sets of numerical data efficiently.\n",
        "\n",
        "* NumPy's arrays are faster than regular Python lists because they are implemented in a low-level language.\n",
        "\n",
        "* You can perform various operations on NumPy arrays, such as mathematical calculations, sorting, and selecting specific elements.\n",
        "\n",
        "* NumPy supports broadcasting, which allows you to perform operations between arrays of different shapes without loops.\n",
        "\n",
        "* It is widely used in scientific computing and data analysis, and it serves as the foundation for other popular libraries like SciPy, Pandas, and Matplotlib."
      ],
      "metadata": {
        "id": "vnPzObLyPXY1"
      }
    },
    {
      "cell_type": "markdown",
      "source": [
        "# **Installing NumPy**"
      ],
      "metadata": {
        "id": "MHtw_K9-QnLv"
      }
    },
    {
      "cell_type": "code",
      "source": [
        "#conda install numpy\n",
        "\n",
        "#or\n",
        "\n",
        "#pip install numpy"
      ],
      "metadata": {
        "id": "Catn4Y5GQrr3"
      },
      "execution_count": null,
      "outputs": []
    },
    {
      "cell_type": "markdown",
      "source": [
        "# **How to import NumPy**"
      ],
      "metadata": {
        "id": "yrFtg3wRRGOj"
      }
    },
    {
      "cell_type": "code",
      "source": [
        "import numpy as np"
      ],
      "metadata": {
        "id": "LOPUnrRyRHjy"
      },
      "execution_count": null,
      "outputs": []
    },
    {
      "cell_type": "markdown",
      "source": [
        "# Difference between a Python list and a NumPy array"
      ],
      "metadata": {
        "id": "XjSDnSfcSqSs"
      }
    },
    {
      "cell_type": "markdown",
      "source": [
        "<table>\n",
        "  <tr>\n",
        "    <th></th>\n",
        "    <th><b>Python Lists</b></th>\n",
        "    <th><b>NumPy Arrays</b></th>\n",
        "  </tr>\n",
        "  <tr>\n",
        "    <td><b>Data Type</b></td>\n",
        "    <td>Can store elements of different data types together</td>\n",
        "    <td>Homogeneous, can only contain elements of the same data type</td>\n",
        "  </tr>\n",
        "  <tr>\n",
        "    <td><b>Memory Efficiency</b></td>\n",
        "    <td>Higher memory overhead due to storing type information and metadata for each element</td>\n",
        "    <td>More memory-efficient, stores only the raw data</td>\n",
        "  </tr>\n",
        "  <tr>\n",
        "    <td><b>Performance</b></td>\n",
        "    <td>Slower for numerical operations, involves interpretation and dynamic dispatch</td>\n",
        "    <td>Faster for numerical operations, utilizes optimized C code</td>\n",
        "  </tr>\n",
        "  <tr>\n",
        "    <td><b>Array Operations</b></td>\n",
        "    <td>Lack built-in array operations, requiring manual iteration or external libraries</td>\n",
        "    <td>Offers a wide range of optimized array operations and functions</td>\n",
        "  </tr>\n",
        "  <tr>\n",
        "    <td><b>Broadcasting</b></td>\n",
        "    <td>Does not support broadcasting, element-wise operations often require explicit loops</td>\n",
        "    <td>Supports broadcasting, simplifying operations between arrays of different shapes</td>\n",
        "  </tr>\n",
        "</table>\n"
      ],
      "metadata": {
        "id": "NI6a1Jb2RTRx"
      }
    },
    {
      "cell_type": "markdown",
      "source": [
        "# Why is NumPy Faster Than Lists?\n"
      ],
      "metadata": {
        "id": "lk3CcThlTuhD"
      }
    },
    {
      "cell_type": "markdown",
      "source": [
        "\n",
        "<p>NumPy is faster than Python lists due to the following reasons:</p>\n",
        "\n",
        "<ol>\n",
        "  <li><strong>Data Organization:</strong> NumPy arrays store data in a way that allows for faster calculations. Python lists can hold different types of data, which slows down computations.</li>\n",
        "  <li><strong>Memory Usage:</strong> NumPy arrays use memory more efficiently by storing data in a contiguous block, making it faster to access elements. Python lists have scattered memory locations, leading to slower access times.</li>\n",
        "  <li><strong>Optimized Operations:</strong> NumPy is built with highly optimized code that performs calculations faster than Python's built-in operations for lists.</li>\n",
        "  <li><strong>Bulk Operations:</strong> NumPy can perform calculations on entire arrays at once, without the need for explicit loops. This saves time compared to iterating over elements in Python lists.</li>\n",
        "  <li><strong>Integration with Libraries:</strong> NumPy is widely used in scientific computing libraries, which are designed to work seamlessly with NumPy. This integration further boosts performance.</li>\n",
        "</ol>\n",
        "\n",
        "<p>In summary, NumPy's speed advantage comes from its efficient data organization, optimized calculations, bulk operations, and integration with specialized libraries. These factors make NumPy faster than Python lists for numerical computations.</p>\n"
      ],
      "metadata": {
        "id": "kB1VTIgpTzKN"
      }
    },
    {
      "cell_type": "markdown",
      "source": [
        "# NumPy Creating Arrays\n"
      ],
      "metadata": {
        "id": "595u3AxeUmJ7"
      }
    },
    {
      "cell_type": "code",
      "source": [
        "import numpy as np\n",
        "\n",
        "arr = np.array([1,2,3,4,5,6]);\n",
        "\n",
        "print(arr)\n",
        "\n",
        "print(type(arr))"
      ],
      "metadata": {
        "colab": {
          "base_uri": "https://localhost:8080/"
        },
        "id": "pmKRBUjXUtzf",
        "outputId": "ac549ba7-c34d-43f5-c249-42c5857cc5df"
      },
      "execution_count": null,
      "outputs": [
        {
          "output_type": "stream",
          "name": "stdout",
          "text": [
            "[1 2 3 4 5 6]\n",
            "<class 'numpy.ndarray'>\n"
          ]
        }
      ]
    },
    {
      "cell_type": "markdown",
      "source": [
        "# Dimensions in Arrays\n"
      ],
      "metadata": {
        "id": "xGVX8Ij5aWIX"
      }
    },
    {
      "cell_type": "markdown",
      "source": [
        "A dimension in arrays is one level of array depth\n"
      ],
      "metadata": {
        "id": "GmfrtguDapYK"
      }
    },
    {
      "cell_type": "markdown",
      "source": [
        "#0-D Arrays\n"
      ],
      "metadata": {
        "id": "pJKc8xTr8HZs"
      }
    },
    {
      "cell_type": "markdown",
      "source": [
        "Each value in an array is O-D Array\n",
        "\n"
      ],
      "metadata": {
        "id": "Q349hgZRRWrG"
      }
    },
    {
      "cell_type": "code",
      "source": [
        "import numpy as np\n",
        "\n",
        "arr = np.array(1);\n",
        "\n",
        "print(arr)\n",
        "\n",
        "print(\"Dimension of Array : \", arr.ndim)"
      ],
      "metadata": {
        "colab": {
          "base_uri": "https://localhost:8080/"
        },
        "id": "IoCxin9G8DYN",
        "outputId": "06f43ba4-b40c-4c0c-cf98-910480590b94"
      },
      "execution_count": null,
      "outputs": [
        {
          "output_type": "stream",
          "name": "stdout",
          "text": [
            "1\n",
            "Dimension of Array 0\n"
          ]
        }
      ]
    },
    {
      "cell_type": "markdown",
      "source": [
        "#1-D Array"
      ],
      "metadata": {
        "id": "z-7Sy-yE84xl"
      }
    },
    {
      "cell_type": "markdown",
      "source": [
        "An array that has a 0-D Array as its elements is called uni-dimensional or 1-D Array\n"
      ],
      "metadata": {
        "id": "kpjWnJH3Rj6o"
      }
    },
    {
      "cell_type": "code",
      "source": [
        "import numpy as np\n",
        "\n",
        "arr = np.array([1,2,3,4,5,6]);\n",
        "\n",
        "print(arr)\n",
        "\n",
        "print(\"Dimension of Array :\", arr.ndim)"
      ],
      "metadata": {
        "colab": {
          "base_uri": "https://localhost:8080/"
        },
        "id": "x_7mkT2f9lqo",
        "outputId": "e5cd86c3-7e9a-43ee-e037-46ecc4ad3b9f"
      },
      "execution_count": null,
      "outputs": [
        {
          "output_type": "stream",
          "name": "stdout",
          "text": [
            "[1 2 3 4 5 6]\n",
            "Dimension of Array : 1\n"
          ]
        }
      ]
    },
    {
      "cell_type": "markdown",
      "source": [
        "#2-D Array"
      ],
      "metadata": {
        "id": "gtJrDEjl9s3l"
      }
    },
    {
      "cell_type": "markdown",
      "source": [
        "An array that has a 1-D Array as its elements is called 2-D Array\n"
      ],
      "metadata": {
        "id": "Xrczb0ekR7g1"
      }
    },
    {
      "cell_type": "code",
      "source": [
        "import numpy as np\n",
        "\n",
        "arr = np.array([[1,2,3,4,5,6], [7,8,9,10,11,12], [13,14,15,16,17,18]]);\n",
        "\n",
        "print(arr)\n",
        "\n",
        "print(\"Dimension of Array :\", arr.ndim)"
      ],
      "metadata": {
        "colab": {
          "base_uri": "https://localhost:8080/"
        },
        "id": "7PzCZN5u9vzf",
        "outputId": "d719b951-5b91-4fb1-b02f-e095a6de7f13"
      },
      "execution_count": null,
      "outputs": [
        {
          "output_type": "stream",
          "name": "stdout",
          "text": [
            "[[ 1  2  3  4  5  6]\n",
            " [ 7  8  9 10 11 12]\n",
            " [13 14 15 16 17 18]]\n",
            "Dimension of Array : 2\n"
          ]
        }
      ]
    },
    {
      "cell_type": "markdown",
      "source": [
        "#3-D Array\n"
      ],
      "metadata": {
        "id": "EQ2QyL0d-YUf"
      }
    },
    {
      "cell_type": "markdown",
      "source": [
        "An array that has a 2-D Array as its elements is called  2-D Array"
      ],
      "metadata": {
        "id": "02fD6JdMSGMm"
      }
    },
    {
      "cell_type": "code",
      "source": [
        "import numpy as np\n",
        "\n",
        "arr = np.array([[[1,2,3,4,5,6], [1,0,1,0,1,0]], [[7,8,9,10,11,12],[2,0,2,0,2,0]], [[13,14,15,16,17,18],[3,0,3,0,3,0]]]);\n",
        "\n",
        "print(arr)\n",
        "\n",
        "print(\"Dimension of Array :\", arr.ndim)"
      ],
      "metadata": {
        "colab": {
          "base_uri": "https://localhost:8080/"
        },
        "id": "CMJtXA0Y-bgp",
        "outputId": "50a3069e-5bcf-43d4-e8cf-7907dd81982c"
      },
      "execution_count": null,
      "outputs": [
        {
          "output_type": "stream",
          "name": "stdout",
          "text": [
            "[[[ 1  2  3  4  5  6]\n",
            "  [ 1  0  1  0  1  0]]\n",
            "\n",
            " [[ 7  8  9 10 11 12]\n",
            "  [ 2  0  2  0  2  0]]\n",
            "\n",
            " [[13 14 15 16 17 18]\n",
            "  [ 3  0  3  0  3  0]]]\n",
            "Dimension of Array : 3\n"
          ]
        }
      ]
    },
    {
      "cell_type": "markdown",
      "source": [
        "#4-D Array"
      ],
      "metadata": {
        "id": "K3g9teaYSMcM"
      }
    },
    {
      "cell_type": "markdown",
      "source": [
        "An array that has a 3-D Array as its elements is called 4-D Array"
      ],
      "metadata": {
        "id": "VCcPlJVWSQ7t"
      }
    },
    {
      "cell_type": "code",
      "source": [
        "import numpy as np\n",
        "\n",
        "arr = np.array([[[[1,2,3,4,5,6], [1,0,1,0,1,0]]], [[[7,8,9,10,11,12],[2,0,2,0,2,0]]], [[[13,14,15,16,17,18],[3,0,3,0,3,0]]]]);\n",
        "\n",
        "print(arr)\n",
        "\n",
        "print(\"Dimension of Array :\", arr.ndim)"
      ],
      "metadata": {
        "colab": {
          "base_uri": "https://localhost:8080/"
        },
        "id": "zdAIib5RSc3g",
        "outputId": "fa635d95-4e3b-4d1a-f90b-fe0f3efbde88"
      },
      "execution_count": null,
      "outputs": [
        {
          "output_type": "stream",
          "name": "stdout",
          "text": [
            "[[[[ 1  2  3  4  5  6]\n",
            "   [ 1  0  1  0  1  0]]]\n",
            "\n",
            "\n",
            " [[[ 7  8  9 10 11 12]\n",
            "   [ 2  0  2  0  2  0]]]\n",
            "\n",
            "\n",
            " [[[13 14 15 16 17 18]\n",
            "   [ 3  0  3  0  3  0]]]]\n",
            "Dimension of Array : 4\n"
          ]
        }
      ]
    },
    {
      "cell_type": "markdown",
      "source": [
        "#Higher Dimensional Arrays\n"
      ],
      "metadata": {
        "id": "9UBjtII5S9Rh"
      }
    },
    {
      "cell_type": "markdown",
      "source": [
        "An array can have any number of dimensional, so when array is created you can specify the dimensions for it"
      ],
      "metadata": {
        "id": "msNa8J93S_H-"
      }
    },
    {
      "cell_type": "code",
      "source": [
        "import numpy as np\n",
        "\n",
        "arr = np.array([1,2,3,4,5,6], ndmin=6);\n",
        "\n",
        "print(arr)\n",
        "print(\"Dimension of Array :\", arr.ndim)"
      ],
      "metadata": {
        "colab": {
          "base_uri": "https://localhost:8080/"
        },
        "id": "U5ZP-k7KTKtZ",
        "outputId": "13dc9457-222c-449f-e629-2ce201245053"
      },
      "execution_count": null,
      "outputs": [
        {
          "output_type": "stream",
          "name": "stdout",
          "text": [
            "[[[[[[1 2 3 4 5 6]]]]]]\n",
            "Dimension of Array : 6\n"
          ]
        }
      ]
    },
    {
      "cell_type": "markdown",
      "source": [
        "#Array Indexing"
      ],
      "metadata": {
        "id": "XvN4w008UBCu"
      }
    },
    {
      "cell_type": "markdown",
      "source": [
        "An array indexing is accessing array elements in any given numpy array.\n",
        "\n",
        "The index in numpy array starts from 0, this means first element has index  0 and second element has index 1 and so on\n",
        "\n",
        "You can access array elements using this index position"
      ],
      "metadata": {
        "id": "XObOoqbzUFby"
      }
    },
    {
      "cell_type": "markdown",
      "source": [
        "\n",
        "**Accessing Array elements from 1-D Array**"
      ],
      "metadata": {
        "id": "WHieN_GyUwA9"
      }
    },
    {
      "cell_type": "code",
      "source": [
        "import numpy as np\n",
        "\n",
        "arr = np.array([1,2,3,4,5,6]);\n",
        "\n",
        "print(arr[1])\n"
      ],
      "metadata": {
        "colab": {
          "base_uri": "https://localhost:8080/"
        },
        "id": "no4xyeF5U6OO",
        "outputId": "7cae7a52-0658-4ae2-f178-3a9b19dcfc8d"
      },
      "execution_count": null,
      "outputs": [
        {
          "output_type": "stream",
          "name": "stdout",
          "text": [
            "2\n"
          ]
        }
      ]
    },
    {
      "cell_type": "markdown",
      "source": [
        "**Accessing Array elements from 2-D Array**\n",
        "\n",
        "To access array elements from 2-D array we use comma seperated integers representing dimension and index of the elements\n",
        "\n",
        "Consider 2-D array as table where rows represent dimensions and column represents"
      ],
      "metadata": {
        "id": "09aQidWsVlZx"
      }
    },
    {
      "cell_type": "code",
      "source": [
        "import numpy as np\n",
        "\n",
        "arr = np.array([[1,2,3,4,5,6], [7,8,9,10,11,12]]);\n",
        "\n",
        "print(arr[1,4])\n"
      ],
      "metadata": {
        "colab": {
          "base_uri": "https://localhost:8080/"
        },
        "id": "kU-SbiYSVm5w",
        "outputId": "20c19407-504e-4a30-f383-cbc4fdfac9c1"
      },
      "execution_count": null,
      "outputs": [
        {
          "output_type": "stream",
          "name": "stdout",
          "text": [
            "11\n"
          ]
        }
      ]
    },
    {
      "cell_type": "markdown",
      "source": [
        "**Accessing Array elements from 3-D Array**\n",
        "\n",
        "To access array elements from 3-D array we use comma seperated integers representing dimension and index of the elements"
      ],
      "metadata": {
        "id": "h4i8IfLPXWuU"
      }
    },
    {
      "cell_type": "code",
      "source": [
        "import numpy as np\n",
        "\n",
        "arr = np.array([ [[1,2,3], [7,8,9]] , [[10,11,12], [13,14,15]] , [[16,17,18], [19,20,21]]]);\n",
        "\n",
        "print(arr[1,0,2])"
      ],
      "metadata": {
        "colab": {
          "base_uri": "https://localhost:8080/"
        },
        "id": "jFogJL7kXhhc",
        "outputId": "2e1655cf-79ca-4ac7-84c1-8c234010008b"
      },
      "execution_count": null,
      "outputs": [
        {
          "output_type": "stream",
          "name": "stdout",
          "text": [
            "12\n"
          ]
        }
      ]
    },
    {
      "cell_type": "markdown",
      "source": [
        "**Accessing Array elements from 4-D Array**\n",
        "\n",
        "To access array elements from 4-D array we use comma seperated integers representing dimension and index of the elements"
      ],
      "metadata": {
        "id": "s6ry5ZnYYOeu"
      }
    },
    {
      "cell_type": "code",
      "source": [
        "import numpy as np\n",
        "\n",
        "arr = np.array([[ [[1,2,3], [7,8,9]] ], [[[10,11,12], [13,14,15]] ], [[[16,17,18], [19,20,21]]]]);\n",
        "\n",
        "print(arr[1,0,1,1])"
      ],
      "metadata": {
        "colab": {
          "base_uri": "https://localhost:8080/"
        },
        "id": "dMSD5dEbYWei",
        "outputId": "009cf31a-c396-4fb9-e794-b86736d61d5b"
      },
      "execution_count": null,
      "outputs": [
        {
          "output_type": "stream",
          "name": "stdout",
          "text": [
            "14\n"
          ]
        }
      ]
    },
    {
      "cell_type": "markdown",
      "source": [
        "#Negative Indexing\n",
        "\n",
        "We can access array elements of any given numpy array using negative index"
      ],
      "metadata": {
        "id": "v2ZhAN05buq0"
      }
    },
    {
      "cell_type": "code",
      "source": [
        "import numpy as np\n",
        "\n",
        "arr = np.array([[1,2,3,4,5,6], [7,8,9,10,11,12]]);\n",
        "\n",
        "print(arr[1,-1])"
      ],
      "metadata": {
        "colab": {
          "base_uri": "https://localhost:8080/"
        },
        "id": "RWxoE6lpbuHl",
        "outputId": "09671727-56c9-4098-a3fe-41b2693baa81"
      },
      "execution_count": null,
      "outputs": [
        {
          "output_type": "stream",
          "name": "stdout",
          "text": [
            "12\n"
          ]
        }
      ]
    },
    {
      "cell_type": "markdown",
      "source": [
        "#NumPy Array Slicing"
      ],
      "metadata": {
        "id": "wFi3UrzxFOY5"
      }
    },
    {
      "cell_type": "markdown",
      "source": [
        "Slicing in python means making taking an elements from one given index to another given index\n",
        "\n",
        "\n",
        "For slicing any given numpy array we pass `[ start : end ]`\n",
        "\n",
        "We can also pass step like, `[ start : end : step ]`"
      ],
      "metadata": {
        "id": "g3942XKwFS4r"
      }
    },
    {
      "cell_type": "code",
      "source": [
        "import numpy as np\n",
        "\n",
        "arr = np.array([1,2,3,4,5,6]);\n",
        "\n",
        "print(\"Array first slice from index 1 to 5 : \",arr[1:5])\n",
        "\n",
        "\n",
        "arr2 = np.array([12,23,36,44,57,63]);\n",
        "\n",
        "print(\"Array second slice from index 1 to last : \",arr2[1:])\n",
        "\n",
        "arr3 = np.array([53,43,35,24,4,89]);\n",
        "\n",
        "print(\"Array third slice from  start to index 4 : \",arr3[:4])\n",
        "\n",
        "\n"
      ],
      "metadata": {
        "colab": {
          "base_uri": "https://localhost:8080/"
        },
        "id": "Pv5LehfvGKTP",
        "outputId": "0fc5f2ca-45bb-4465-9cd3-9cf2d05b10b7"
      },
      "execution_count": null,
      "outputs": [
        {
          "output_type": "stream",
          "name": "stdout",
          "text": [
            "Array first slice from index 1 to 5 :  [2 3 4 5]\n",
            "Array second slice from index 1 to last :  [23 36 44 57 63]\n",
            "Array third slice from  start to index 4 :  [53 43 35 24]\n"
          ]
        }
      ]
    },
    {
      "cell_type": "markdown",
      "source": [
        "#Negative Slicing"
      ],
      "metadata": {
        "id": "m6hRqFNlLSdt"
      }
    },
    {
      "cell_type": "markdown",
      "source": [
        "In negative slicing we can use minus operator to refer an index from end"
      ],
      "metadata": {
        "id": "tjIMTqU5LUse"
      }
    },
    {
      "cell_type": "code",
      "source": [
        "import numpy as np\n",
        "\n",
        "arr = np.array([1,2,3,4,5,6]);\n",
        "\n",
        "print(\"Array first negative slice from index -3 to -2 : \",arr[-3:-1])\n",
        "\n",
        "arr2 = np.array([12,23,36,44,57,63]);\n",
        "\n",
        "print(\"Array second negative slice from index -4 to last : \",arr2[-4:])\n",
        "\n",
        "arr3 = np.array([53,43,35,24,4,89]);\n",
        "\n",
        "print(\"Array third  negative slice from  start to -3 : \",arr3[:-3])\n"
      ],
      "metadata": {
        "colab": {
          "base_uri": "https://localhost:8080/"
        },
        "id": "QIdrFyPDLiaM",
        "outputId": "073ff957-5dea-4a2a-d323-76c64a825241"
      },
      "execution_count": null,
      "outputs": [
        {
          "output_type": "stream",
          "name": "stdout",
          "text": [
            "Array first negative slice from index -3 to -2 :  [4 5]\n",
            "Array second negative slice from index -4 to last :  [36 44 57 63]\n",
            "Array third  negative slice from  start to -3 :  [53 43 35]\n"
          ]
        }
      ]
    },
    {
      "cell_type": "markdown",
      "source": [
        "#Step"
      ],
      "metadata": {
        "id": "9EjnQOQ5NCRA"
      }
    },
    {
      "cell_type": "markdown",
      "source": [
        "We can use a step value to determine the step while slicing any numpy array"
      ],
      "metadata": {
        "id": "woEWxqL9NLFS"
      }
    },
    {
      "cell_type": "code",
      "source": [
        "import numpy as np\n",
        "\n",
        "arr = np.array([1,2,3,4,5,6,7,8,9,10]);\n",
        "\n",
        "print(\"Step of 2, from index 1 to index 8: \",arr[1:8:2])\n",
        "\n",
        "print(\"Step of 3, from start to index 6 : \",arr[:6:3])\n",
        "\n",
        "print(\"Step of 2, from start to last : \",arr[::2])\n",
        "\n",
        "print(\"Step of 3 : \",arr[1::2])\n"
      ],
      "metadata": {
        "colab": {
          "base_uri": "https://localhost:8080/"
        },
        "id": "p1t05eG2NTsr",
        "outputId": "b53b16fc-157d-422d-87c0-036b785ee9e7"
      },
      "execution_count": null,
      "outputs": [
        {
          "output_type": "stream",
          "name": "stdout",
          "text": [
            "Step of 2 :  [2 4 6 8]\n",
            "Step of 3 :  [1 4]\n",
            "Step of 2 :  [1 3 5 7 9]\n",
            "Step of 3 :  [ 2  4  6  8 10]\n"
          ]
        }
      ]
    },
    {
      "cell_type": "markdown",
      "source": [
        "#Slicing 2-D array"
      ],
      "metadata": {
        "id": "PuM-IOAbXLPb"
      }
    },
    {
      "cell_type": "code",
      "source": [
        "import numpy as np\n",
        "\n",
        "arr = np.array([[1,2,3,4,5,6],[7,8,9,10,11,12]]);\n",
        "\n",
        "print(\"Slicing 2-D Array : \",arr[1,1:4])\n"
      ],
      "metadata": {
        "colab": {
          "base_uri": "https://localhost:8080/"
        },
        "id": "W64fd2o8XTqe",
        "outputId": "940e4bfa-8528-41f8-b439-ecde6b9ef6d6"
      },
      "execution_count": null,
      "outputs": [
        {
          "output_type": "stream",
          "name": "stdout",
          "text": [
            "Slicing 2-D Array :  [ 8  9 10]\n"
          ]
        }
      ]
    },
    {
      "cell_type": "markdown",
      "source": [
        "#Slicing 3-D Array"
      ],
      "metadata": {
        "id": "6Yio52ZMXydr"
      }
    },
    {
      "cell_type": "code",
      "source": [
        "import numpy as np\n",
        "\n",
        "arr = np.array([ [[1,2,3,4,5,6],[7,8,9,10,11,12]], [[11,12,13,14,15,16],[17,18,19,20,21,22]] ]);\n",
        "\n",
        "print(\"Slicing 2-D Array : \",arr[0,1,1:4])\n"
      ],
      "metadata": {
        "colab": {
          "base_uri": "https://localhost:8080/"
        },
        "id": "NHqs4dCZX2dQ",
        "outputId": "12045447-ec23-46ff-e9aa-69f62401f9bb"
      },
      "execution_count": null,
      "outputs": [
        {
          "output_type": "stream",
          "name": "stdout",
          "text": [
            "Slicing 2-D Array :  [ 8  9 10]\n"
          ]
        }
      ]
    },
    {
      "cell_type": "markdown",
      "source": [],
      "metadata": {
        "id": "dC8O_-VLJqIl"
      }
    },
    {
      "cell_type": "markdown",
      "source": [
        "#Data Type in Pyton"
      ],
      "metadata": {
        "id": "ZueCClb9IRZ5"
      }
    },
    {
      "cell_type": "markdown",
      "source": [
        "In python we have following data types such as,\n",
        "\n",
        "```\n",
        "1. strings - eg. \"A\",\"ABC\"\n",
        "2. integer - eg. 1,2,3,4,-5\n",
        "3. float  - eg. 1.0,2.0,-3.43\n",
        "4. boolean - eg. true,false\n",
        "5. complex - eg. 1.0 + 2.0j, 3.0 + 10j\n",
        "```\n",
        "\n",
        "\n",
        "\n",
        "\n",
        "\n",
        "\n"
      ],
      "metadata": {
        "id": "OD0McIJvIULr"
      }
    },
    {
      "cell_type": "markdown",
      "source": [
        "#Data Type in Numpy Array"
      ],
      "metadata": {
        "id": "8uB332yzJxkV"
      }
    },
    {
      "cell_type": "markdown",
      "source": [
        "In NumPy we have more data type, which is represented usinf single characters such as,\n",
        "\n",
        "```\n",
        "i - integer\n",
        "f - float\n",
        "b - boolean\n",
        "c - complex float\n",
        "u - unsigned integer\n",
        "m - timedelta\n",
        "M - datetime\n",
        "O - object\n",
        "S - strings\n",
        "U - unicode string\n",
        "V - void\n",
        "```"
      ],
      "metadata": {
        "id": "42yUuXZEJ2tY"
      }
    },
    {
      "cell_type": "markdown",
      "source": [
        "#Checking the Data type of NumPy Array\n",
        "\n",
        "\n"
      ],
      "metadata": {
        "id": "3ZZgoqhfLELx"
      }
    },
    {
      "cell_type": "markdown",
      "source": [
        "we can check data type of given array using ```dtype```"
      ],
      "metadata": {
        "id": "ao-DAV7ALMjg"
      }
    },
    {
      "cell_type": "code",
      "source": [
        "import numpy as np\n",
        "\n",
        "arr = np.array([1,2,3,4,5]);\n",
        "\n",
        "print(arr.dtype);\n",
        "\n",
        "arr2 = np.array([\"A\",\"B\",\"C\"]);\n",
        "\n",
        "print(arr2.dtype);\n",
        "\n",
        "arr3 = np.array([1.2,2.3,4.9]);\n",
        "\n",
        "print(arr3.dtype);\n",
        "\n",
        "arr4 = np.array([1.2 + 2.0j,2.3+4.2j,4.9+5.6j]);\n",
        "\n",
        "print(arr4.dtype);\n",
        "\n",
        "arr4 = np.array([1.2 + 2.0j,2.3+4.2j,4.9+5.6j]);\n",
        "\n",
        "print(arr4.dtype);\n"
      ],
      "metadata": {
        "colab": {
          "base_uri": "https://localhost:8080/"
        },
        "id": "ypF-1m53Lf4J",
        "outputId": "66c8ec6d-641a-4b68-80b8-6290e8bc6e21"
      },
      "execution_count": null,
      "outputs": [
        {
          "output_type": "stream",
          "name": "stdout",
          "text": [
            "int64\n",
            "<U1\n",
            "float64\n",
            "complex128\n"
          ]
        }
      ]
    },
    {
      "cell_type": "markdown",
      "source": [
        "#Changing the Data Type of existing Array\n",
        "\n",
        "\n"
      ],
      "metadata": {
        "id": "o8ylLxpGFJnF"
      }
    },
    {
      "cell_type": "markdown",
      "source": [
        "The best way to change the datatype of any numpy array is to make a copy of of the array using ```astype()``` method\n",
        "\n",
        "The ```astype()``` method create the copy of the array, and also allow you to specify the data type as the parameter"
      ],
      "metadata": {
        "id": "A_RG4qlGFNx1"
      }
    },
    {
      "cell_type": "code",
      "source": [
        "import numpy as np\n",
        "\n",
        "arr = np.array([1,2,3,4,5]);\n",
        "\n",
        "new_arr = arr.astype('S');\n",
        "\n",
        "print(new_arr.dtype);\n",
        "\n",
        "print(new_arr);\n",
        "\n",
        "\n",
        "new_arr_1 = arr.astype('f');\n",
        "\n",
        "print(new_arr_1.dtype);\n",
        "\n",
        "print(new_arr_1);\n"
      ],
      "metadata": {
        "colab": {
          "base_uri": "https://localhost:8080/"
        },
        "id": "eRME7IBJFyFr",
        "outputId": "061b58c2-b79c-4e98-aaa8-131adadee2f3"
      },
      "execution_count": null,
      "outputs": [
        {
          "output_type": "stream",
          "name": "stdout",
          "text": [
            "|S21\n",
            "[b'1' b'2' b'3' b'4' b'5']\n",
            "float32\n",
            "[1. 2. 3. 4. 5.]\n"
          ]
        }
      ]
    },
    {
      "cell_type": "markdown",
      "source": [
        "#NumpyPy Array Copy and View"
      ],
      "metadata": {
        "id": "SsNVr_z-GqKp"
      }
    },
    {
      "cell_type": "markdown",
      "source": [
        "**Copy**\n",
        "\n",
        "* A copy is a new array that owns its data.\n",
        "* Changes made to the copy do not affect the original array.\n",
        "* Changes made to the original array do not affect the copy.\n",
        "\n",
        "**View:**\n",
        "\n",
        "* A view is just a view of the original array.\n",
        "* It does not own the data; it provides a different  \n",
        "* perspective on the original array.\n",
        "* Changes made to the view will affect the original array, and vice versa."
      ],
      "metadata": {
        "id": "V4Ws3ZwbHFuN"
      }
    },
    {
      "cell_type": "code",
      "source": [
        "#Copy Example\n",
        "\n",
        "import numpy as np\n",
        "\n",
        "arr = np.array([1, 2, 3, 4, 5])\n",
        "copy_array = arr.copy()\n",
        "arr[3] = 100\n",
        "\n",
        "print(arr)\n",
        "print(copy_array)"
      ],
      "metadata": {
        "colab": {
          "base_uri": "https://localhost:8080/"
        },
        "id": "-uhK7IzWIIZr",
        "outputId": "3dfb5100-789c-4537-d76b-9c3db45ad85c"
      },
      "execution_count": null,
      "outputs": [
        {
          "output_type": "stream",
          "name": "stdout",
          "text": [
            "[  1   2   3 100   5]\n",
            "[1 2 3 4 5]\n"
          ]
        }
      ]
    },
    {
      "cell_type": "code",
      "source": [
        "#View Example\n",
        "\n",
        "import numpy as np\n",
        "\n",
        "arr = np.array([1, 2, 3, 4, 5])\n",
        "view_array = arr.view()\n",
        "arr[1] = 100\n",
        "\n",
        "print(arr)\n",
        "print(view_array)"
      ],
      "metadata": {
        "colab": {
          "base_uri": "https://localhost:8080/"
        },
        "id": "a0K3QYAWItVX",
        "outputId": "adc5e377-75b5-437b-8615-9bc90ff584e4"
      },
      "execution_count": null,
      "outputs": [
        {
          "output_type": "stream",
          "name": "stdout",
          "text": [
            "[  1 100   3   4   5]\n",
            "[  1 100   3   4   5]\n"
          ]
        }
      ]
    },
    {
      "cell_type": "markdown",
      "source": [
        "#NumPy Array Shape\n"
      ],
      "metadata": {
        "id": "giAMbj6XJdUy"
      }
    },
    {
      "cell_type": "markdown",
      "source": [
        "The shape of array is number of elements in each dimensions\n",
        "\n",
        "Numpy Array has the attibute called ```shape``` to return the tupe corresponding the mumber of elements in each dimension"
      ],
      "metadata": {
        "id": "0ngeQpWtJfCO"
      }
    },
    {
      "cell_type": "code",
      "source": [
        "\n",
        "import numpy as np\n",
        "\n",
        "arr = np.array([1, 2, 3, 4, 5])\n",
        "\n",
        "print(arr.shape)\n",
        "\n",
        "arr2 = np.array([[1, 2, 3, 4, 5],[6,7,8,9,10]])\n",
        "\n",
        "print(arr2.shape)\n",
        "\n",
        "arr3 = np.array([[[1, 2, 3, 4, 5],[6,7,8,9,10]],[[1, 2, 3, 4, 5],[6,7,8,9,10]]])\n",
        "\n",
        "print(arr3.shape)\n"
      ],
      "metadata": {
        "colab": {
          "base_uri": "https://localhost:8080/"
        },
        "id": "90A1f-xcMHyI",
        "outputId": "405ef40d-4946-4976-b939-66b3261faae3"
      },
      "execution_count": null,
      "outputs": [
        {
          "output_type": "stream",
          "name": "stdout",
          "text": [
            "(5,)\n",
            "(2, 5)\n",
            "(2, 2, 5)\n"
          ]
        }
      ]
    },
    {
      "cell_type": "markdown",
      "source": [
        "#Reshaping the Array"
      ],
      "metadata": {
        "id": "mLfGrqIKNHg1"
      }
    },
    {
      "cell_type": "markdown",
      "source": [
        "Reshaping means changing the shape of the array, where shape means numbers of the elements in each dimension, through reshaping we can add or change the shape of array"
      ],
      "metadata": {
        "id": "uA0wtTJvNJ6B"
      }
    },
    {
      "cell_type": "markdown",
      "source": [
        "#chaging 1-D array to 2-D array"
      ],
      "metadata": {
        "id": "6yT6K-f5NnzI"
      }
    },
    {
      "cell_type": "code",
      "source": [
        "import numpy as np\n",
        "\n",
        "arr = np.array([1, 2, 3, 4, 5, 6])\n",
        "\n",
        "print(\"Old Array dimensions : \",arr.ndim)\n",
        "\n",
        "new_arr = arr.reshape(2,3)\n",
        "\n",
        "print(\"Reshape Array :\\n\", new_arr)\n",
        "\n",
        "print(\"New Array dimensions :\",new_arr.ndim)"
      ],
      "metadata": {
        "colab": {
          "base_uri": "https://localhost:8080/"
        },
        "id": "ZGD-eqF9Nh6z",
        "outputId": "08dbdea5-862b-4801-aa5c-75b2001911cf"
      },
      "execution_count": null,
      "outputs": [
        {
          "output_type": "stream",
          "name": "stdout",
          "text": [
            "Old Array dimensions :  1\n",
            "Reshape Array :\n",
            " [[1 2 3]\n",
            " [4 5 6]]\n",
            "New Array dimensions : 2\n"
          ]
        }
      ]
    },
    {
      "cell_type": "markdown",
      "source": [
        "##chaging 1-D array to 3-D array"
      ],
      "metadata": {
        "id": "s7v2LsjIO2GE"
      }
    },
    {
      "cell_type": "code",
      "source": [
        "import numpy as np\n",
        "\n",
        "arr = np.array([1, 2, 3, 4, 5, 6])\n",
        "\n",
        "print(\"Old Array dimensions : \",arr.ndim)\n",
        "\n",
        "new_arr = arr.reshape(1,3,2)\n",
        "\n",
        "print(\"Reshape Array :\\n\", new_arr)\n",
        "\n",
        "print(\"New Array dimensions :\",new_arr.ndim)"
      ],
      "metadata": {
        "colab": {
          "base_uri": "https://localhost:8080/"
        },
        "id": "kEGCxbczO6v9",
        "outputId": "e4b7791a-94ec-4dd9-b1b8-561ae766c86d"
      },
      "execution_count": null,
      "outputs": [
        {
          "output_type": "stream",
          "name": "stdout",
          "text": [
            "Old Array dimensions :  1\n",
            "Reshape Array :\n",
            " [[[1 2]\n",
            "  [3 4]\n",
            "  [5 6]]]\n",
            "New Array dimensions : 3\n"
          ]
        }
      ]
    },
    {
      "cell_type": "markdown",
      "source": [
        "##chaging 1-D array to 2-D array"
      ],
      "metadata": {
        "id": "7KHmLfN_PIxg"
      }
    },
    {
      "cell_type": "code",
      "source": [
        "import numpy as np\n",
        "\n",
        "arr = np.array([1, 2, 3, 4, 5, 6])\n",
        "\n",
        "print(\"Old Array dimensions : \",arr.ndim)\n",
        "\n",
        "new_arr = arr.reshape(1,1,2,3)\n",
        "\n",
        "print(\"Reshape Array :\\n\", new_arr)\n",
        "\n",
        "print(\"New Array dimensions :\",new_arr.ndim)"
      ],
      "metadata": {
        "colab": {
          "base_uri": "https://localhost:8080/"
        },
        "id": "2ntZTjovPKts",
        "outputId": "64d558f3-aaad-4d65-c512-18578293e454"
      },
      "execution_count": null,
      "outputs": [
        {
          "output_type": "stream",
          "name": "stdout",
          "text": [
            "Old Array dimensions :  1\n",
            "Reshape Array :\n",
            " [[[[1 2 3]\n",
            "   [4 5 6]]]]\n",
            "New Array dimensions : 4\n"
          ]
        }
      ]
    },
    {
      "cell_type": "markdown",
      "source": [
        "#chaging 2-D array to 3-D array"
      ],
      "metadata": {
        "id": "DXB-ME5qPze_"
      }
    },
    {
      "cell_type": "code",
      "source": [
        "import numpy as np\n",
        "\n",
        "arr = np.array([[1, 2, 3, 4, 5, 6],[7, 8, 9, 10, 11, 12]])\n",
        "\n",
        "print(\"Old Array dimensions : \",arr.ndim)\n",
        "\n",
        "new_arr = arr.reshape(2,3,2)\n",
        "\n",
        "print(\"Reshape Array :\\n\", new_arr)\n",
        "\n",
        "print(\"New Array dimensions :\",new_arr.ndim)"
      ],
      "metadata": {
        "colab": {
          "base_uri": "https://localhost:8080/"
        },
        "id": "cXTWvxk0S9vr",
        "outputId": "098cd0b4-2ce8-4ce9-e4e5-7b0bf342e027"
      },
      "execution_count": null,
      "outputs": [
        {
          "output_type": "stream",
          "name": "stdout",
          "text": [
            "Old Array dimensions :  2\n",
            "Reshape Array :\n",
            " [[[ 1  2]\n",
            "  [ 3  4]\n",
            "  [ 5  6]]\n",
            "\n",
            " [[ 7  8]\n",
            "  [ 9 10]\n",
            "  [11 12]]]\n",
            "New Array dimensions : 3\n"
          ]
        }
      ]
    },
    {
      "cell_type": "markdown",
      "source": [
        "#Unknown Dimension\n",
        "\n",
        "You can have one unknown dimension, this means you do not have to specify the exact number of one dimension in the reshape method"
      ],
      "metadata": {
        "id": "YAVCYTv0nJCt"
      }
    },
    {
      "cell_type": "code",
      "source": [
        "import numpy as np\n",
        "\n",
        "arr = np.array([[1, 2, 3, 4, 5, 6],[7, 8, 9, 10, 11, 12]])\n",
        "\n",
        "print(\"Old Array : \\n\",arr)\n",
        "print(\"Old Array Dimension: \",arr.ndim)\n",
        "\n",
        "print(\"UnKnow Dimension array : \\n\",arr.reshape(2,2,-1))\n",
        "print(\"UnKnow Dimension  array's Dimension: \",arr.ndim)"
      ],
      "metadata": {
        "colab": {
          "base_uri": "https://localhost:8080/"
        },
        "id": "VmL0nvbbnoaS",
        "outputId": "18a6bf49-0974-4e76-88c4-59b22440b609"
      },
      "execution_count": null,
      "outputs": [
        {
          "output_type": "stream",
          "name": "stdout",
          "text": [
            "Old Array : \n",
            " [[ 1  2  3  4  5  6]\n",
            " [ 7  8  9 10 11 12]]\n",
            "Old Array Dimension:  2\n",
            "UnKnow Dimension array : \n",
            " [[[ 1  2  3]\n",
            "  [ 4  5  6]]\n",
            "\n",
            " [[ 7  8  9]\n",
            "  [10 11 12]]]\n",
            "UnKnow Dimension  array's Dimension:  2\n"
          ]
        }
      ]
    },
    {
      "cell_type": "markdown",
      "source": [
        "#Flatting the array"
      ],
      "metadata": {
        "id": "ASt_k_g_ZdDq"
      }
    },
    {
      "cell_type": "markdown",
      "source": [
        "Flatting the array means converting mutidimensional array to 1-D array"
      ],
      "metadata": {
        "id": "QgzuCv4AZqPV"
      }
    },
    {
      "cell_type": "code",
      "source": [
        "import numpy as np\n",
        "\n",
        "arr = np.array([[1, 2, 3, 4, 5, 6],[7, 8, 9, 10, 11, 12]])\n",
        "\n",
        "print(\"Old Array : \\n\",arr)\n",
        "print(\"Old Array Dimension: \",arr.ndim)\n",
        "\n",
        "print(\"Flatting array : \",arr.reshape(-1))\n",
        "print(\"Flatting array Dimension : \",arr.ndim)"
      ],
      "metadata": {
        "colab": {
          "base_uri": "https://localhost:8080/"
        },
        "id": "tE3sODgjZzI9",
        "outputId": "cf058bef-be2b-4bd4-9df6-7cffeb6bd73b"
      },
      "execution_count": null,
      "outputs": [
        {
          "output_type": "stream",
          "name": "stdout",
          "text": [
            "Old Array : \n",
            " [[ 1  2  3  4  5  6]\n",
            " [ 7  8  9 10 11 12]]\n",
            "Old Array Dimension:  2\n",
            "Flatting array :  [ 1  2  3  4  5  6  7  8  9 10 11 12]\n",
            "Flatting array Dimension :  2\n"
          ]
        }
      ]
    },
    {
      "cell_type": "markdown",
      "source": [
        "#Iterating through NumPy Array\n",
        "\n",
        "You can iterate any give numpy array using for loop"
      ],
      "metadata": {
        "id": "MpOMdSFoodMo"
      }
    },
    {
      "cell_type": "markdown",
      "source": [
        "#Iterating 1D Array"
      ],
      "metadata": {
        "id": "DrfUwc1KonTb"
      }
    },
    {
      "cell_type": "code",
      "source": [
        "import numpy as np\n",
        "\n",
        "arr = np.array([1,2,3,4,5,6,7])\n",
        "\n",
        "for i in arr:\n",
        "  print(i);"
      ],
      "metadata": {
        "colab": {
          "base_uri": "https://localhost:8080/"
        },
        "id": "4ZmFgOi4orWq",
        "outputId": "7c4ca76a-da24-46e1-dee4-9f5813c17a4e"
      },
      "execution_count": null,
      "outputs": [
        {
          "output_type": "stream",
          "name": "stdout",
          "text": [
            "1\n",
            "2\n",
            "3\n",
            "4\n",
            "5\n",
            "6\n",
            "7\n"
          ]
        }
      ]
    },
    {
      "cell_type": "markdown",
      "source": [
        "#Iterating 2D Array"
      ],
      "metadata": {
        "id": "SocKJdztpH38"
      }
    },
    {
      "cell_type": "code",
      "source": [
        "import numpy as np\n",
        "\n",
        "arr = np.array([[1,2,3,4,5,6],[8,9,10,11,12]])\n",
        "\n",
        "for i in arr:\n",
        "  print(i);\n",
        "\n",
        "\n",
        "# Iterating through each elements of 2D array\n",
        "arr = np.array([[1,2,3,4,5,6],[8,9,10,11,12]])\n",
        "\n",
        "for i in arr:\n",
        "  for j in i:\n",
        "    print(j)"
      ],
      "metadata": {
        "colab": {
          "base_uri": "https://localhost:8080/"
        },
        "id": "MwouuGSMpJeu",
        "outputId": "d61b91ec-a4be-4f77-8fc5-ba862988d51a"
      },
      "execution_count": null,
      "outputs": [
        {
          "output_type": "stream",
          "name": "stdout",
          "text": [
            "[1, 2, 3, 4, 5, 6]\n",
            "[8, 9, 10, 11, 12]\n",
            "1\n",
            "2\n",
            "3\n",
            "4\n",
            "5\n",
            "6\n",
            "8\n",
            "9\n",
            "10\n",
            "11\n",
            "12\n"
          ]
        },
        {
          "output_type": "stream",
          "name": "stderr",
          "text": [
            "<ipython-input-64-d641afdc2f7e>:3: VisibleDeprecationWarning: Creating an ndarray from ragged nested sequences (which is a list-or-tuple of lists-or-tuples-or ndarrays with different lengths or shapes) is deprecated. If you meant to do this, you must specify 'dtype=object' when creating the ndarray.\n",
            "  arr = np.array([[1,2,3,4,5,6],[8,9,10,11,12]])\n",
            "<ipython-input-64-d641afdc2f7e>:11: VisibleDeprecationWarning: Creating an ndarray from ragged nested sequences (which is a list-or-tuple of lists-or-tuples-or ndarrays with different lengths or shapes) is deprecated. If you meant to do this, you must specify 'dtype=object' when creating the ndarray.\n",
            "  arr = np.array([[1,2,3,4,5,6],[8,9,10,11,12]])\n"
          ]
        }
      ]
    },
    {
      "cell_type": "markdown",
      "source": [
        "#Iterating through 3D array"
      ],
      "metadata": {
        "id": "TodvbLaRqGP9"
      }
    },
    {
      "cell_type": "code",
      "source": [
        "import numpy as np\n",
        "\n",
        "arr = np.array([[[1,2,3,4,5,6],[8,9,10,11,12]],[[1,2,3,4,5,6],[8,9,10,11,12]]])\n",
        "\n",
        "for i in arr:\n",
        "  print(i);\n",
        "\n",
        "\n",
        "# Iterating through each elements of 3D array\n",
        "arr = np.array([[[1,2,3,4,5,6],[8,9,10,11,12]],[[1,2,3,4,5,6],[8,9,10,11,12]]])\n",
        "\n",
        "for i in arr:\n",
        "  for j in i:\n",
        "    for k in j:\n",
        "          print(k)"
      ],
      "metadata": {
        "colab": {
          "base_uri": "https://localhost:8080/"
        },
        "id": "6s8XPJ0kqIaT",
        "outputId": "612ae1c4-be36-4e20-c4a1-e2312439b8c2"
      },
      "execution_count": null,
      "outputs": [
        {
          "output_type": "stream",
          "name": "stdout",
          "text": [
            "[list([1, 2, 3, 4, 5, 6]) list([8, 9, 10, 11, 12])]\n",
            "[list([1, 2, 3, 4, 5, 6]) list([8, 9, 10, 11, 12])]\n",
            "1\n",
            "2\n",
            "3\n",
            "4\n",
            "5\n",
            "6\n",
            "8\n",
            "9\n",
            "10\n",
            "11\n",
            "12\n",
            "1\n",
            "2\n",
            "3\n",
            "4\n",
            "5\n",
            "6\n",
            "8\n",
            "9\n",
            "10\n",
            "11\n",
            "12\n"
          ]
        },
        {
          "output_type": "stream",
          "name": "stderr",
          "text": [
            "<ipython-input-65-5bf95638f4fa>:3: VisibleDeprecationWarning: Creating an ndarray from ragged nested sequences (which is a list-or-tuple of lists-or-tuples-or ndarrays with different lengths or shapes) is deprecated. If you meant to do this, you must specify 'dtype=object' when creating the ndarray.\n",
            "  arr = np.array([[[1,2,3,4,5,6],[8,9,10,11,12]],[[1,2,3,4,5,6],[8,9,10,11,12]]])\n",
            "<ipython-input-65-5bf95638f4fa>:10: VisibleDeprecationWarning: Creating an ndarray from ragged nested sequences (which is a list-or-tuple of lists-or-tuples-or ndarrays with different lengths or shapes) is deprecated. If you meant to do this, you must specify 'dtype=object' when creating the ndarray.\n",
            "  arr = np.array([[[1,2,3,4,5,6],[8,9,10,11,12]],[[1,2,3,4,5,6],[8,9,10,11,12]]])\n"
          ]
        }
      ]
    },
    {
      "cell_type": "markdown",
      "source": [
        "#Iterating NumPy array through nditer()\n",
        "\n",
        "```nditer``` function is use to iterate from basic dimensions to higher dimensions\n",
        "\n",
        "As you can see in above example of iterating array we have used ```for``` loop to iterate through higher dimensions array which can be tedious and difficult to write code for higher dimension, so ```nditer`` solves your problem for it.\n"
      ],
      "metadata": {
        "id": "Q1ANz0N2qtBM"
      }
    },
    {
      "cell_type": "code",
      "source": [
        "import numpy as np\n",
        "\n",
        "# Iterating through each elements of 3D array\n",
        "arr = np.array([1,2,3,4,5,6])\n",
        "\n",
        "for i in np.nditer(arr):\n",
        "  print(i);"
      ],
      "metadata": {
        "colab": {
          "base_uri": "https://localhost:8080/"
        },
        "id": "toDtfCIrrlkF",
        "outputId": "67977467-badf-47a0-d6d4-43ae14ac7886"
      },
      "execution_count": null,
      "outputs": [
        {
          "output_type": "stream",
          "name": "stdout",
          "text": [
            "1\n",
            "2\n",
            "3\n",
            "4\n",
            "5\n",
            "6\n"
          ]
        }
      ]
    },
    {
      "cell_type": "markdown",
      "source": [
        "#Iterating through diffferent data type\n",
        "\n",
        "* To change the data type of elements while iterating in NumPy, use the ```op_dtypes``` argument.\n",
        "\n",
        "* NumPy doesn't modify the data type in-place; it requires a buffer for the conversion.\n",
        "\n",
        "* Enable the buffer by passing ```flags=['buffered']``` to ```nditer()```.\n",
        "\n",
        "* The buffer allows NumPy to allocate space for the data type conversion during iteration."
      ],
      "metadata": {
        "id": "yJEjF4yqxaFo"
      }
    },
    {
      "cell_type": "code",
      "source": [
        "import numpy as np\n",
        "\n",
        "arr = np.array([[1.0, 2.0, 3.0],[4.0,5.0,6.0],[7.0,8.0,9.0]])\n",
        "\n",
        "for x in np.nditer(arr, flags=['buffered'], op_dtypes=['S']):\n",
        "  print(x)"
      ],
      "metadata": {
        "colab": {
          "base_uri": "https://localhost:8080/"
        },
        "id": "M8-ymEO4xn9x",
        "outputId": "6f406c49-e88c-4d09-ce23-724ffaedd1d5"
      },
      "execution_count": null,
      "outputs": [
        {
          "output_type": "stream",
          "name": "stdout",
          "text": [
            "b'1.0'\n",
            "b'2.0'\n",
            "b'3.0'\n",
            "b'4.0'\n",
            "b'5.0'\n",
            "b'6.0'\n",
            "b'7.0'\n",
            "b'8.0'\n",
            "b'9.0'\n"
          ]
        }
      ]
    },
    {
      "cell_type": "markdown",
      "source": [
        "#Iterating through step"
      ],
      "metadata": {
        "id": "pqe7M94x0H5b"
      }
    },
    {
      "cell_type": "code",
      "source": [
        "import numpy as np\n",
        "\n",
        "arr = np.array([[1, 2, 3, 4], [5, 6, 7, 8]])\n",
        "\n",
        "for x in np.nditer(arr[:, ::2]):\n",
        "  print(x)"
      ],
      "metadata": {
        "colab": {
          "base_uri": "https://localhost:8080/"
        },
        "id": "QFQkrxfm0O-A",
        "outputId": "f9140e9f-bd7a-4e29-81a9-52f7c95b7923"
      },
      "execution_count": null,
      "outputs": [
        {
          "output_type": "stream",
          "name": "stdout",
          "text": [
            "1\n",
            "3\n",
            "5\n",
            "7\n"
          ]
        }
      ]
    },
    {
      "cell_type": "markdown",
      "source": [
        "#Joining the Array\n",
        "\n",
        "You can join two different array using ```concatenate``` function"
      ],
      "metadata": {
        "id": "22SneiGL4kwd"
      }
    },
    {
      "cell_type": "code",
      "source": [
        "import numpy as np\n",
        "\n",
        "arr = np.array([1, 2, 3, 4])\n",
        "\n",
        "arr2 = np.array([11, 12, 13, 14])\n",
        "\n",
        "print(np.concatenate((arr,arr2)))"
      ],
      "metadata": {
        "colab": {
          "base_uri": "https://localhost:8080/"
        },
        "id": "h086sLX75ZqP",
        "outputId": "57ac1143-fa2d-4dc7-c38e-8e588fc15cf4"
      },
      "execution_count": null,
      "outputs": [
        {
          "output_type": "stream",
          "name": "stdout",
          "text": [
            "[ 1  2  3  4 11 12 13 14]\n"
          ]
        }
      ]
    },
    {
      "cell_type": "markdown",
      "source": [
        "Join 2-D array using axis = 1"
      ],
      "metadata": {
        "id": "nAof5vHl5jmM"
      }
    },
    {
      "cell_type": "code",
      "source": [
        "import numpy as np\n",
        "\n",
        "arr = np.array([[1, 2, 3, 4], [5, 6, 7, 8]])\n",
        "\n",
        "arr2 = np.array([[11, 12, 13, 14], [15, 16, 17, 18]])\n",
        "\n",
        "print(np.concatenate((arr,arr2),axis = 1))"
      ],
      "metadata": {
        "colab": {
          "base_uri": "https://localhost:8080/"
        },
        "id": "53YCGHku4yK7",
        "outputId": "0298c942-db10-4eee-c7de-9264f1e50444"
      },
      "execution_count": null,
      "outputs": [
        {
          "output_type": "stream",
          "name": "stdout",
          "text": [
            "[[ 1  2  3  4 11 12 13 14]\n",
            " [ 5  6  7  8 15 16 17 18]]\n"
          ]
        }
      ]
    },
    {
      "cell_type": "markdown",
      "source": [
        "#Joing array using stack function\n",
        "\n",
        "* Stacking and concatenation are similar, but stacking adds a new axis.\n",
        "* Stacking places arrays on top of each other.\n",
        "* We can stack 1-D arrays by concatenating them along the second axis.\n",
        "* To stack arrays, use the ```stack()``` method and provide the arrays to join.\n",
        "*If no axis is specified, it defaults to 0."
      ],
      "metadata": {
        "id": "Zqg5aSfQ6AM-"
      }
    },
    {
      "cell_type": "code",
      "source": [
        "import numpy as np\n",
        "\n",
        "arr = np.array([[1, 2, 3, 4], [5, 6, 7, 8]])\n",
        "\n",
        "arr2 = np.array([[11, 12, 13, 14], [15, 16, 17, 18]])\n",
        "\n",
        "print(np.stack((arr,arr2),axis = 2))"
      ],
      "metadata": {
        "colab": {
          "base_uri": "https://localhost:8080/"
        },
        "id": "WgQ8c4j86W6c",
        "outputId": "5bbd1264-34fa-4143-8fca-0d08a7da1963"
      },
      "execution_count": null,
      "outputs": [
        {
          "output_type": "stream",
          "name": "stdout",
          "text": [
            "[[[ 1 11]\n",
            "  [ 2 12]\n",
            "  [ 3 13]\n",
            "  [ 4 14]]\n",
            "\n",
            " [[ 5 15]\n",
            "  [ 6 16]\n",
            "  [ 7 17]\n",
            "  [ 8 18]]]\n"
          ]
        }
      ]
    },
    {
      "cell_type": "markdown",
      "source": [
        "#Stacking along the row\n",
        "\n",
        "You can stack two different array using ```hstack``` function"
      ],
      "metadata": {
        "id": "7TY1MKeu6tgU"
      }
    },
    {
      "cell_type": "code",
      "source": [
        "import numpy as np\n",
        "\n",
        "arr = np.array([1, 2, 3, 4])\n",
        "\n",
        "arr2 = np.array([11, 12, 13, 14])\n",
        "\n",
        "print(np.hstack((arr,arr2)))"
      ],
      "metadata": {
        "colab": {
          "base_uri": "https://localhost:8080/"
        },
        "id": "bBzs_Ps76vdU",
        "outputId": "3f763040-8f2c-49f9-909b-57fa5f265e59"
      },
      "execution_count": null,
      "outputs": [
        {
          "output_type": "stream",
          "name": "stdout",
          "text": [
            "[ 1  2  3  4 11 12 13 14]\n"
          ]
        }
      ]
    },
    {
      "cell_type": "markdown",
      "source": [
        "#Stacking along the column\n",
        "\n",
        "You can stack two different array using ```vstack``` function"
      ],
      "metadata": {
        "id": "JH7fnj2S6_FX"
      }
    },
    {
      "cell_type": "code",
      "source": [
        "import numpy as np\n",
        "\n",
        "arr = np.array([1, 2, 3, 4])\n",
        "\n",
        "arr2 = np.array([11, 12, 13, 14])\n",
        "\n",
        "print(np.vstack((arr,arr2)))"
      ],
      "metadata": {
        "colab": {
          "base_uri": "https://localhost:8080/"
        },
        "id": "k-P13vsr7Bx7",
        "outputId": "48024e92-d45a-4919-c201-ee923da4033c"
      },
      "execution_count": null,
      "outputs": [
        {
          "output_type": "stream",
          "name": "stdout",
          "text": [
            "[[ 1  2  3  4]\n",
            " [11 12 13 14]]\n"
          ]
        }
      ]
    },
    {
      "cell_type": "markdown",
      "source": [
        "#Stacking Along Height (depth)\n",
        "\n",
        "You can stack two different array using ```dstack``` function"
      ],
      "metadata": {
        "id": "YbKkI7B57cPk"
      }
    },
    {
      "cell_type": "code",
      "source": [
        "import numpy as np\n",
        "\n",
        "arr = np.array([1, 2, 3, 4])\n",
        "\n",
        "arr2 = np.array([11, 12, 13, 14])\n",
        "\n",
        "print(np.dstack((arr,arr2)))"
      ],
      "metadata": {
        "id": "4rResAl87jad",
        "outputId": "8b574d4a-8633-4455-d646-22e42c4e3fbd",
        "colab": {
          "base_uri": "https://localhost:8080/"
        }
      },
      "execution_count": null,
      "outputs": [
        {
          "output_type": "stream",
          "name": "stdout",
          "text": [
            "[[[ 1 11]\n",
            "  [ 2 12]\n",
            "  [ 3 13]\n",
            "  [ 4 14]]]\n"
          ]
        }
      ]
    },
    {
      "cell_type": "markdown",
      "source": [
        "#Spliting the Numpy Array\n",
        "\n",
        "* Spliting is the reverse operation of joining\n",
        "* In Joining where we join multiple array in to one single array\n",
        "* In Spliting we breakdown the single array in multiple array"
      ],
      "metadata": {
        "id": "ZOqVlwzcNk0r"
      }
    },
    {
      "cell_type": "code",
      "source": [
        "import numpy as np\n",
        "\n",
        "arr = np.array([1, 2, 3, 4])\n",
        "\n",
        "new_arr = np.array_split(arr,2)\n",
        "\n",
        "print(new_arr)\n"
      ],
      "metadata": {
        "colab": {
          "base_uri": "https://localhost:8080/"
        },
        "id": "pRZfYAWoOEqf",
        "outputId": "10c5e3ad-49d9-4086-a1cc-a7b4287aeb23"
      },
      "execution_count": null,
      "outputs": [
        {
          "output_type": "stream",
          "name": "stdout",
          "text": [
            "[array([1, 2]), array([3, 4])]\n"
          ]
        }
      ]
    },
    {
      "cell_type": "markdown",
      "source": [
        "#Spliting the Numpy Array into array's  \n"
      ],
      "metadata": {
        "id": "oUOTL-tXPRpg"
      }
    },
    {
      "cell_type": "code",
      "source": [
        "import numpy as np\n",
        "\n",
        "arr = np.array([1, 2, 3, 4])\n",
        "\n",
        "new_arr = np.array_split(arr,2)\n",
        "\n",
        "print(new_arr[0])\n",
        "\n",
        "print(new_arr[1])\n",
        "\n"
      ],
      "metadata": {
        "colab": {
          "base_uri": "https://localhost:8080/"
        },
        "id": "qHGA2Zh4PXdQ",
        "outputId": "603b99dc-cf94-43c6-a208-147a77643b1d"
      },
      "execution_count": null,
      "outputs": [
        {
          "output_type": "stream",
          "name": "stdout",
          "text": [
            "[1 2]\n",
            "[3 4]\n"
          ]
        }
      ]
    },
    {
      "cell_type": "markdown",
      "source": [
        "#Spliting 2-D Array\n",
        "\n",
        "You can use the same syntax for spliting 2-D array"
      ],
      "metadata": {
        "id": "82xxMqxjPeJr"
      }
    },
    {
      "cell_type": "code",
      "source": [
        "import numpy as np\n",
        "\n",
        "arr = np.array([[1, 2, 3, 4],[5,6,7,8],[9,10,11,12]])\n",
        "\n",
        "new_arr = np.array_split(arr,2)\n",
        "\n",
        "print(new_arr)"
      ],
      "metadata": {
        "colab": {
          "base_uri": "https://localhost:8080/"
        },
        "id": "wudXxasIPvtN",
        "outputId": "94a93fc7-2d87-465a-f493-5a68fa859c18"
      },
      "execution_count": null,
      "outputs": [
        {
          "output_type": "stream",
          "name": "stdout",
          "text": [
            "[array([[1, 2, 3, 4],\n",
            "       [5, 6, 7, 8]]), array([[ 9, 10, 11, 12]])]\n"
          ]
        }
      ]
    },
    {
      "cell_type": "markdown",
      "source": [
        "#Searching Array\n",
        "\n",
        "* You can search any given value in a array\n",
        "* It will return the index position of the searched elements\n",
        "* To search we can use ```where()``` function"
      ],
      "metadata": {
        "id": "1-QPSkCXS_U2"
      }
    },
    {
      "cell_type": "code",
      "source": [
        "import numpy as np\n",
        "\n",
        "arr = np.array([1, 2, 3, 4,1,2,4,5,7,8,1,23,4,6,1])\n",
        "\n",
        "a = np.where(arr == 1)\n",
        "\n",
        "print(a)"
      ],
      "metadata": {
        "colab": {
          "base_uri": "https://localhost:8080/"
        },
        "id": "Z2V-SAlvTQLP",
        "outputId": "d3a93d30-7e25-4207-ecc2-567d184193df"
      },
      "execution_count": null,
      "outputs": [
        {
          "output_type": "stream",
          "name": "stdout",
          "text": [
            "(array([ 0,  4, 10, 14]),)\n"
          ]
        }
      ]
    },
    {
      "cell_type": "markdown",
      "source": [
        "#Sorting the Numpy Array\n",
        "\n",
        "* You can short any given numpy array using ```sort``` function\n",
        "* You can ```sort``` function in any format such as alphabetical, ascending, descending or numerical manner\n",
        "\n"
      ],
      "metadata": {
        "id": "T9fhUKVIUkyC"
      }
    },
    {
      "cell_type": "code",
      "source": [
        "import numpy as np\n",
        "\n",
        "arr = np.array([1, 2, 3, 4,1,2,4,5,7,8,1,23,4,6,1])\n",
        "\n",
        "a = np.sort(arr)\n",
        "\n",
        "print(a)\n",
        "\n",
        "\n",
        "# Sorting a String value array\n",
        "\n",
        "\n",
        "arr2 = np.array([\"Hello\",\"Good Morning\",\"Jhon\",\"Welcome\",\"you\",\"Numpy\"])\n",
        "\n",
        "b = np.sort(arr2)\n",
        "\n",
        "print(b)\n",
        "\n"
      ],
      "metadata": {
        "colab": {
          "base_uri": "https://localhost:8080/"
        },
        "id": "OGFvXfGLUkmA",
        "outputId": "b5f27ef9-040c-4725-c515-a0e5531d942c"
      },
      "execution_count": null,
      "outputs": [
        {
          "output_type": "stream",
          "name": "stdout",
          "text": [
            "[ 1  1  1  1  2  2  3  4  4  4  5  6  7  8 23]\n",
            "['Good Morning' 'Hello' 'Jhon' 'Numpy' 'Welcome' 'you']\n"
          ]
        }
      ]
    },
    {
      "cell_type": "markdown",
      "source": [
        "#Sorting a 2-D Array\n"
      ],
      "metadata": {
        "id": "gSL8UwXpV2Hi"
      }
    },
    {
      "cell_type": "code",
      "source": [
        "import numpy as np\n",
        "\n",
        "arr = np.array([[48,14,19,48,91],[93,18,50,62,3]])\n",
        "\n",
        "a = np.sort(arr)\n",
        "\n",
        "print(a)\n"
      ],
      "metadata": {
        "colab": {
          "base_uri": "https://localhost:8080/"
        },
        "id": "iO0y-tOeV5Wm",
        "outputId": "56a313d0-c2fd-4f75-85ae-5fd850ff8143"
      },
      "execution_count": null,
      "outputs": [
        {
          "output_type": "stream",
          "name": "stdout",
          "text": [
            "[[14 19 48 48 91]\n",
            " [ 3 18 50 62 93]]\n"
          ]
        }
      ]
    },
    {
      "cell_type": "markdown",
      "source": [
        "#Random Numbers in NumPy\n",
        "\n",
        "Random means someting that cannot be predicted"
      ],
      "metadata": {
        "id": "2xit4z84Yh_-"
      }
    },
    {
      "cell_type": "code",
      "source": [
        "from numpy import random\n",
        "\n",
        "value = random.randint(10)\n",
        "\n",
        "print(value)"
      ],
      "metadata": {
        "colab": {
          "base_uri": "https://localhost:8080/"
        },
        "id": "pu6WKd5FZ8Qg",
        "outputId": "c5381875-bbc5-4f88-d1f0-fb788786987d"
      },
      "execution_count": null,
      "outputs": [
        {
          "output_type": "stream",
          "name": "stdout",
          "text": [
            "6\n"
          ]
        }
      ]
    },
    {
      "cell_type": "markdown",
      "source": [
        "#Generate random float number\n",
        "\n"
      ],
      "metadata": {
        "id": "zLUhm5GfayJe"
      }
    },
    {
      "cell_type": "code",
      "source": [
        "from numpy import random\n",
        "\n",
        "value = random.rand()\n",
        "\n",
        "print(value)"
      ],
      "metadata": {
        "colab": {
          "base_uri": "https://localhost:8080/"
        },
        "id": "JiyK97T6a5QV",
        "outputId": "f87796a2-35ed-4a93-c33d-b4352ea97bb4"
      },
      "execution_count": null,
      "outputs": [
        {
          "output_type": "stream",
          "name": "stdout",
          "text": [
            "0.9418561706088971\n"
          ]
        }
      ]
    },
    {
      "cell_type": "markdown",
      "source": [
        "#Generate Random Array"
      ],
      "metadata": {
        "id": "vi6CunHDa-TT"
      }
    },
    {
      "cell_type": "code",
      "source": [
        "#1-D Array\n",
        "\n",
        "from numpy import random\n",
        "\n",
        "value = random.randint(100, size=(10))\n",
        "\n",
        "print(value)\n",
        "\n",
        "#2-D Array\n",
        "\n",
        "from numpy import random\n",
        "\n",
        "value2 = random.randint(100, size=(2,3))\n",
        "\n",
        "print(value2)\n",
        "\n",
        "#1-D Float Array\n",
        "\n",
        "from numpy import random\n",
        "\n",
        "value3 = random.rand(5)\n",
        "\n",
        "print(value3)\n",
        "\n",
        "#2-D Float Array\n",
        "\n",
        "from numpy import random\n",
        "\n",
        "value4 = random.rand(2,2)\n",
        "\n",
        "print(value4)"
      ],
      "metadata": {
        "id": "JWdkoFBZbDnD",
        "colab": {
          "base_uri": "https://localhost:8080/"
        },
        "outputId": "07f6a0cf-670b-4fb8-d048-76658ec325eb"
      },
      "execution_count": null,
      "outputs": [
        {
          "output_type": "stream",
          "name": "stdout",
          "text": [
            "[85 98 91 91 84 40 22 69 50 43]\n",
            "[[ 5 47 75]\n",
            " [ 4 27 22]]\n",
            "[0.00983222 0.74062227 0.77953789 0.59821093 0.21876433]\n",
            "[[0.9153025  0.65544217]\n",
            " [0.91550187 0.46389947]]\n"
          ]
        }
      ]
    },
    {
      "cell_type": "markdown",
      "source": [
        "#Numpy Choice\n",
        "\n",
        "* You can use ```choice()``` method to find any random value from given numpy array"
      ],
      "metadata": {
        "id": "FIPArEl5c6DQ"
      }
    },
    {
      "cell_type": "code",
      "source": [
        "from numpy import random\n",
        "\n",
        "value = random.choice([1,9,201,812,192,10,381,18])\n",
        "\n",
        "print(value)"
      ],
      "metadata": {
        "colab": {
          "base_uri": "https://localhost:8080/"
        },
        "id": "c1DXJjMGdEwn",
        "outputId": "3fc9b725-e3ec-4fb5-dbd9-6f88284565d5"
      },
      "execution_count": null,
      "outputs": [
        {
          "output_type": "stream",
          "name": "stdout",
          "text": [
            "201\n"
          ]
        }
      ]
    },
    {
      "cell_type": "markdown",
      "source": [
        "#Shuffling  Numpy Array\n",
        "\n",
        "* You can ```shuffle``` the array using this method\n",
        "* Calling this method will generate new random shuffled array everytime"
      ],
      "metadata": {
        "id": "yPf1AIx_a6rB"
      }
    },
    {
      "cell_type": "code",
      "source": [
        "from numpy import random\n",
        "import numpy as np\n",
        "\n",
        "arr = np.array([1,9,201,812,192,10,381,18])\n",
        "\n",
        "random.shuffle(arr)\n",
        "\n",
        "print(arr)"
      ],
      "metadata": {
        "colab": {
          "base_uri": "https://localhost:8080/"
        },
        "id": "qXdSbSynbFBM",
        "outputId": "56439fcc-38f9-4db5-dbd6-88678ca620b8"
      },
      "execution_count": null,
      "outputs": [
        {
          "output_type": "stream",
          "name": "stdout",
          "text": [
            "[  9 201  18   1 192  10 812 381]\n"
          ]
        }
      ]
    },
    {
      "cell_type": "markdown",
      "source": [
        "#Permutations of the Array\n",
        "\n",
        "* You can generate random permutation of numpy array using ```permutation``` method"
      ],
      "metadata": {
        "id": "Nf7cITf8by8d"
      }
    },
    {
      "cell_type": "code",
      "source": [
        "from numpy import random\n",
        "import numpy as np\n",
        "\n",
        "arr = np.array([1,9,201,812,192,10,381,18])\n",
        "\n",
        "new_arr = random.permutation(arr)\n",
        "\n",
        "print(arr)\n",
        "\n",
        "print(new_arr)"
      ],
      "metadata": {
        "colab": {
          "base_uri": "https://localhost:8080/"
        },
        "id": "GJGVR97tcVYb",
        "outputId": "48d1e984-71e4-4205-b7ca-b316682f29f2"
      },
      "execution_count": null,
      "outputs": [
        {
          "output_type": "stream",
          "name": "stdout",
          "text": [
            "[  1   9 201 812 192  10 381  18]\n",
            "[381 812  10   1  18 192   9 201]\n"
          ]
        }
      ]
    },
    {
      "cell_type": "markdown",
      "source": [
        "#Seaborn Module\n",
        "\n",
        "* Seaborn is the python library that uses mathplot library underneath  \n",
        "\n",
        "* It help to visualise the given array\n",
        "\n"
      ],
      "metadata": {
        "id": "iJtJauczc37l"
      }
    },
    {
      "cell_type": "code",
      "source": [
        "import matplotlib.pyplot as plt\n",
        "import seaborn as sns\n",
        "\n",
        "\n",
        "sns.displot([1,2,3,4,5,6,7,8,9,10],kind='kde',rug=True)\n",
        "\n",
        "plt.show()\n"
      ],
      "metadata": {
        "colab": {
          "base_uri": "https://localhost:8080/",
          "height": 506
        },
        "id": "6VyaW2ODda7w",
        "outputId": "89081edd-5fb6-49a8-a9ec-c1e6c17bd1c8"
      },
      "execution_count": null,
      "outputs": [
        {
          "output_type": "display_data",
          "data": {
            "text/plain": [
              "<Figure size 500x500 with 1 Axes>"
            ],
            "image/png": "[encoded data removed]"
          },
          "metadata": {}
        }
      ]
    }
  ]
}