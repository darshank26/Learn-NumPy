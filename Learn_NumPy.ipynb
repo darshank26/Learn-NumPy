{
  "nbformat": 4,
  "nbformat_minor": 0,
  "metadata": {
    "colab": {
      "provenance": [],
      "toc_visible": true,
      "authorship_tag": "ABX9TyMuPsP2F7i4oT9ntbhF8Xrq",
      "include_colab_link": true
    },
    "kernelspec": {
      "name": "python3",
      "display_name": "Python 3"
    },
    "language_info": {
      "name": "python"
    }
  },
  "cells": [
    {
      "cell_type": "markdown",
      "metadata": {
        "id": "view-in-github",
        "colab_type": "text"
      },
      "source": [
        "<a href=\"https://colab.research.google.com/github/darshank26/Learn-NumPy/blob/main/Learn_NumPy.ipynb\" target=\"_parent\"><img src=\"https://colab.research.google.com/assets/colab-badge.svg\" alt=\"Open In Colab\"/></a>"
      ]
    },
    {
      "cell_type": "markdown",
      "source": [
        "#***Welcome to NumPy!***\n",
        "\n",
        "* NumPy is a Python library used for numerical computing and data manipulation.\n",
        "\n",
        "* It provides a special type of array called ndarray to store and operate on large sets of numerical data efficiently.\n",
        "\n",
        "* NumPy's arrays are faster than regular Python lists because they are implemented in a low-level language.\n",
        "\n",
        "* You can perform various operations on NumPy arrays, such as mathematical calculations, sorting, and selecting specific elements.\n",
        "\n",
        "* NumPy supports broadcasting, which allows you to perform operations between arrays of different shapes without loops.\n",
        "\n",
        "* It is widely used in scientific computing and data analysis, and it serves as the foundation for other popular libraries like SciPy, Pandas, and Matplotlib."
      ],
      "metadata": {
        "id": "vnPzObLyPXY1"
      }
    },
    {
      "cell_type": "markdown",
      "source": [
        "# **Installing NumPy**"
      ],
      "metadata": {
        "id": "MHtw_K9-QnLv"
      }
    },
    {
      "cell_type": "code",
      "source": [
        "#conda install numpy\n",
        "\n",
        "#or\n",
        "\n",
        "#pip install numpy"
      ],
      "metadata": {
        "id": "Catn4Y5GQrr3"
      },
      "execution_count": null,
      "outputs": []
    },
    {
      "cell_type": "markdown",
      "source": [
        "# **How to import NumPy**"
      ],
      "metadata": {
        "id": "yrFtg3wRRGOj"
      }
    },
    {
      "cell_type": "code",
      "source": [
        "import numpy as np"
      ],
      "metadata": {
        "id": "LOPUnrRyRHjy"
      },
      "execution_count": null,
      "outputs": []
    },
    {
      "cell_type": "markdown",
      "source": [
        "# Difference between a Python list and a NumPy array"
      ],
      "metadata": {
        "id": "XjSDnSfcSqSs"
      }
    },
    {
      "cell_type": "markdown",
      "source": [
        "<table>\n",
        "  <tr>\n",
        "    <th></th>\n",
        "    <th><b>Python Lists</b></th>\n",
        "    <th><b>NumPy Arrays</b></th>\n",
        "  </tr>\n",
        "  <tr>\n",
        "    <td><b>Data Type</b></td>\n",
        "    <td>Can store elements of different data types together</td>\n",
        "    <td>Homogeneous, can only contain elements of the same data type</td>\n",
        "  </tr>\n",
        "  <tr>\n",
        "    <td><b>Memory Efficiency</b></td>\n",
        "    <td>Higher memory overhead due to storing type information and metadata for each element</td>\n",
        "    <td>More memory-efficient, stores only the raw data</td>\n",
        "  </tr>\n",
        "  <tr>\n",
        "    <td><b>Performance</b></td>\n",
        "    <td>Slower for numerical operations, involves interpretation and dynamic dispatch</td>\n",
        "    <td>Faster for numerical operations, utilizes optimized C code</td>\n",
        "  </tr>\n",
        "  <tr>\n",
        "    <td><b>Array Operations</b></td>\n",
        "    <td>Lack built-in array operations, requiring manual iteration or external libraries</td>\n",
        "    <td>Offers a wide range of optimized array operations and functions</td>\n",
        "  </tr>\n",
        "  <tr>\n",
        "    <td><b>Broadcasting</b></td>\n",
        "    <td>Does not support broadcasting, element-wise operations often require explicit loops</td>\n",
        "    <td>Supports broadcasting, simplifying operations between arrays of different shapes</td>\n",
        "  </tr>\n",
        "</table>\n"
      ],
      "metadata": {
        "id": "NI6a1Jb2RTRx"
      }
    },
    {
      "cell_type": "markdown",
      "source": [
        "# Why is NumPy Faster Than Lists?\n"
      ],
      "metadata": {
        "id": "lk3CcThlTuhD"
      }
    },
    {
      "cell_type": "markdown",
      "source": [
        "\n",
        "<p>NumPy is faster than Python lists due to the following reasons:</p>\n",
        "\n",
        "<ol>\n",
        "  <li><strong>Data Organization:</strong> NumPy arrays store data in a way that allows for faster calculations. Python lists can hold different types of data, which slows down computations.</li>\n",
        "  <li><strong>Memory Usage:</strong> NumPy arrays use memory more efficiently by storing data in a contiguous block, making it faster to access elements. Python lists have scattered memory locations, leading to slower access times.</li>\n",
        "  <li><strong>Optimized Operations:</strong> NumPy is built with highly optimized code that performs calculations faster than Python's built-in operations for lists.</li>\n",
        "  <li><strong>Bulk Operations:</strong> NumPy can perform calculations on entire arrays at once, without the need for explicit loops. This saves time compared to iterating over elements in Python lists.</li>\n",
        "  <li><strong>Integration with Libraries:</strong> NumPy is widely used in scientific computing libraries, which are designed to work seamlessly with NumPy. This integration further boosts performance.</li>\n",
        "</ol>\n",
        "\n",
        "<p>In summary, NumPy's speed advantage comes from its efficient data organization, optimized calculations, bulk operations, and integration with specialized libraries. These factors make NumPy faster than Python lists for numerical computations.</p>\n"
      ],
      "metadata": {
        "id": "kB1VTIgpTzKN"
      }
    },
    {
      "cell_type": "markdown",
      "source": [
        "# NumPy Creating Arrays\n"
      ],
      "metadata": {
        "id": "595u3AxeUmJ7"
      }
    },
    {
      "cell_type": "code",
      "source": [
        "import numpy as np\n",
        "\n",
        "arr = np.array([1,2,3,4,5,6]);\n",
        "\n",
        "print(arr)\n",
        "\n",
        "print(type(arr))"
      ],
      "metadata": {
        "colab": {
          "base_uri": "https://localhost:8080/"
        },
        "id": "pmKRBUjXUtzf",
        "outputId": "ac549ba7-c34d-43f5-c249-42c5857cc5df"
      },
      "execution_count": null,
      "outputs": [
        {
          "output_type": "stream",
          "name": "stdout",
          "text": [
            "[1 2 3 4 5 6]\n",
            "<class 'numpy.ndarray'>\n"
          ]
        }
      ]
    }
  ]
}